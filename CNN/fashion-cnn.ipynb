{
 "cells": [
  {
   "cell_type": "code",
   "execution_count": 2,
   "id": "d30fa10b-b010-4027-9197-527d6a472980",
   "metadata": {
    "collapsed": true,
    "jupyter": {
     "outputs_hidden": true
    },
    "tags": []
   },
   "outputs": [
    {
     "name": "stdout",
     "output_type": "stream",
     "text": [
      "Downloading data from https://storage.googleapis.com/tensorflow/tf-keras-datasets/train-labels-idx1-ubyte.gz\n",
      "32768/29515 [=================================] - 0s 0us/step\n",
      "40960/29515 [=========================================] - 0s 0us/step\n",
      "Downloading data from https://storage.googleapis.com/tensorflow/tf-keras-datasets/train-images-idx3-ubyte.gz\n",
      "26427392/26421880 [==============================] - 0s 0us/step\n",
      "26435584/26421880 [==============================] - 0s 0us/step\n",
      "Downloading data from https://storage.googleapis.com/tensorflow/tf-keras-datasets/t10k-labels-idx1-ubyte.gz\n",
      "16384/5148 [===============================================================================================] - 0s 0us/step\n",
      "Downloading data from https://storage.googleapis.com/tensorflow/tf-keras-datasets/t10k-images-idx3-ubyte.gz\n",
      "4423680/4422102 [==============================] - 0s 0us/step\n",
      "4431872/4422102 [==============================] - 0s 0us/step\n"
     ]
    }
   ],
   "source": [
    "from keras.datasets import fashion_mnist\n",
    "(train_X,train_Y), (test_X,test_Y) = fashion_mnist.load_data()"
   ]
  },
  {
   "cell_type": "code",
   "execution_count": 4,
   "id": "88a199df-2021-4c41-9beb-ccf104c3db2f",
   "metadata": {},
   "outputs": [
    {
     "name": "stdout",
     "output_type": "stream",
     "text": [
      "Training data shape :  (60000, 28, 28) (60000,)\n",
      "Testing data shape :  (10000, 28, 28) (10000,)\n"
     ]
    }
   ],
   "source": [
    "import numpy as np\n",
    "from tensorflow.keras.utils import to_categorical\n",
    "import matplotlib.pyplot as plt\n",
    "%matplotlib inline\n",
    "\n",
    "print('Training data shape : ', train_X.shape, train_Y.shape)\n",
    "\n",
    "print('Testing data shape : ', test_X.shape, test_Y.shape)"
   ]
  },
  {
   "cell_type": "code",
   "execution_count": 5,
   "id": "8be0c7c1-fdfe-4225-8bdc-f9039024804d",
   "metadata": {},
   "outputs": [
    {
     "name": "stdout",
     "output_type": "stream",
     "text": [
      "Total number of outputs :  10\n",
      "Output classes :  [0 1 2 3 4 5 6 7 8 9]\n"
     ]
    }
   ],
   "source": [
    "# Find the unique numbers from the train labels\n",
    "classes = np.unique(train_Y)\n",
    "nClasses = len(classes)\n",
    "print('Total number of outputs : ', nClasses)\n",
    "print('Output classes : ', classes)"
   ]
  },
  {
   "cell_type": "code",
   "execution_count": 6,
   "id": "33bcaeb3-e734-49b1-bb87-cae07cdd7d6f",
   "metadata": {},
   "outputs": [
    {
     "data": {
      "text/plain": [
       "Text(0.5, 1.0, 'Ground Truth : 9')"
      ]
     },
     "execution_count": 6,
     "metadata": {},
     "output_type": "execute_result"
    },
    {
     "data": {
      "image/png": "[encoded data removed]",
      "text/plain": [
       "<Figure size 360x360 with 2 Axes>"
      ]
     },
     "metadata": {
      "needs_background": "light"
     },
     "output_type": "display_data"
    }
   ],
   "source": [
    "plt.figure(figsize=[5,5])\n",
    "\n",
    "# Display the first image in training data\n",
    "plt.subplot(121)\n",
    "plt.imshow(train_X[0,:,:], cmap='gray')\n",
    "plt.title(\"Ground Truth : {}\".format(train_Y[0]))\n",
    "\n",
    "# Display the first image in testing data\n",
    "plt.subplot(122)\n",
    "plt.imshow(test_X[0,:,:], cmap='gray')\n",
    "plt.title(\"Ground Truth : {}\".format(test_Y[0]))"
   ]
  },
  {
   "cell_type": "code",
   "execution_count": 8,
   "id": "5cd7820d-391f-4bf9-898c-9f0dbc5739ad",
   "metadata": {},
   "outputs": [
    {
     "data": {
      "text/plain": [
       "((60000, 28, 28, 1), (10000, 28, 28, 1))"
      ]
     },
     "execution_count": 8,
     "metadata": {},
     "output_type": "execute_result"
    }
   ],
   "source": [
    "train_X = train_X.reshape(-1, 28,28, 1)\n",
    "test_X = test_X.reshape(-1, 28,28, 1)\n",
    "train_X.shape, test_X.shape"
   ]
  },
  {
   "cell_type": "code",
   "execution_count": 9,
   "id": "38ec134c-14cc-4eb9-88e0-7fd46ff140ba",
   "metadata": {},
   "outputs": [],
   "source": [
    "train_X = train_X.astype('float32')\n",
    "test_X = test_X.astype('float32')\n",
    "train_X = train_X / 255\n",
    "test_X = test_X / 255"
   ]
  },
  {
   "cell_type": "code",
   "execution_count": 10,
   "id": "aca6aaf4-3216-4ec7-9cc1-f006d1d88183",
   "metadata": {},
   "outputs": [
    {
     "name": "stdout",
     "output_type": "stream",
     "text": [
      "Original label: 9\n",
      "After conversion to one-hot: [0. 0. 0. 0. 0. 0. 0. 0. 0. 1.]\n"
     ]
    }
   ],
   "source": [
    "# Change the labels from categorical to one-hot encoding\n",
    "train_Y_one_hot = to_categorical(train_Y)\n",
    "test_Y_one_hot = to_categorical(test_Y)\n",
    "\n",
    "# Display the change for category label using one-hot encoding\n",
    "print('Original label:', train_Y[0])\n",
    "print('After conversion to one-hot:', train_Y_one_hot[0])"
   ]
  },
  {
   "cell_type": "code",
   "execution_count": 11,
   "id": "563c62ef-614d-4566-9f6e-7ddde27d79e9",
   "metadata": {},
   "outputs": [],
   "source": [
    "from sklearn.model_selection import train_test_split\n",
    "train_X,valid_X,train_label,valid_label = train_test_split(train_X, train_Y_one_hot, test_size=0.2, random_state=13)"
   ]
  },
  {
   "cell_type": "code",
   "execution_count": 12,
   "id": "4c830a15-f0a4-437e-b3f6-df7f9751c2fe",
   "metadata": {},
   "outputs": [
    {
     "data": {
      "text/plain": [
       "((48000, 28, 28, 1), (12000, 28, 28, 1), (48000, 10), (12000, 10))"
      ]
     },
     "execution_count": 12,
     "metadata": {},
     "output_type": "execute_result"
    }
   ],
   "source": [
    "train_X.shape,valid_X.shape,train_label.shape,valid_label.shape"
   ]
  },
  {
   "cell_type": "code",
   "execution_count": 17,
   "id": "858fcb99-5c74-449e-ae2f-616c772b020b",
   "metadata": {},
   "outputs": [],
   "source": [
    "import keras\n",
    "from keras.models import Sequential,Input,Model\n",
    "from keras.layers import Dense, Dropout, Flatten\n",
    "from keras.layers import Conv2D, MaxPooling2D\n",
    "from keras.layers.advanced_activations import LeakyReLU"
   ]
  },
  {
   "cell_type": "code",
   "execution_count": 34,
   "id": "6eb4713b-810c-4ab6-aab6-cedff52da2dc",
   "metadata": {},
   "outputs": [],
   "source": [
    "from keras.layers import BatchNormalization"
   ]
  },
  {
   "cell_type": "code",
   "execution_count": 15,
   "id": "3676fee2-650e-4b1b-b095-8f73c407c7da",
   "metadata": {},
   "outputs": [],
   "source": [
    "batch_size = 64\n",
    "epochs = 20\n",
    "num_classes = 10\n"
   ]
  },
  {
   "cell_type": "code",
   "execution_count": 18,
   "id": "445be689-d755-465b-b4d6-5cd21f2510b4",
   "metadata": {},
   "outputs": [],
   "source": [
    "fashion_model = Sequential()\n",
    "fashion_model.add(Conv2D(32, kernel_size=(3, 3),activation='linear',input_shape=(28,28,1),padding='same'))\n",
    "fashion_model.add(LeakyReLU(alpha=0.1))\n",
    "fashion_model.add(MaxPooling2D((2, 2),padding='same'))\n",
    "fashion_model.add(Conv2D(64, (3, 3), activation='linear',padding='same'))\n",
    "fashion_model.add(LeakyReLU(alpha=0.1))\n",
    "fashion_model.add(MaxPooling2D(pool_size=(2, 2),padding='same'))\n",
    "fashion_model.add(Conv2D(128, (3, 3), activation='linear',padding='same'))\n",
    "fashion_model.add(LeakyReLU(alpha=0.1))                  \n",
    "fashion_model.add(MaxPooling2D(pool_size=(2, 2),padding='same'))\n",
    "fashion_model.add(Flatten())\n",
    "fashion_model.add(Dense(128, activation='linear'))\n",
    "fashion_model.add(LeakyReLU(alpha=0.1))                  \n",
    "fashion_model.add(Dense(num_classes, activation='softmax'))"
   ]
  },
  {
   "cell_type": "code",
   "execution_count": 28,
   "id": "82808089-6b7e-4889-93f8-0635a9c6a394",
   "metadata": {},
   "outputs": [],
   "source": [
    "from tensorflow.keras.optimizers import Adam"
   ]
  },
  {
   "cell_type": "code",
   "execution_count": 31,
   "id": "d575a903-9afb-4f8c-b228-c187678fa05d",
   "metadata": {},
   "outputs": [],
   "source": [
    "fashion_model.compile(loss=keras.losses.categorical_crossentropy, optimizer=Adam(learning_rate=0.0002, beta_1=0.5),metrics=['accuracy'])"
   ]
  },
  {
   "cell_type": "code",
   "execution_count": 35,
   "id": "b3972124-3dfa-498a-a8db-e09d90127ab3",
   "metadata": {},
   "outputs": [
    {
     "name": "stdout",
     "output_type": "stream",
     "text": [
      "Model: \"sequential_1\"\n",
      "_________________________________________________________________\n",
      "Layer (type)                 Output Shape              Param #   \n",
      "=================================================================\n",
      "conv2d_1 (Conv2D)            (None, 28, 28, 32)        320       \n",
      "_________________________________________________________________\n",
      "leaky_re_lu (LeakyReLU)      (None, 28, 28, 32)        0         \n",
      "_________________________________________________________________\n",
      "max_pooling2d (MaxPooling2D) (None, 14, 14, 32)        0         \n",
      "_________________________________________________________________\n",
      "conv2d_2 (Conv2D)            (None, 14, 14, 64)        18496     \n",
      "_________________________________________________________________\n",
      "leaky_re_lu_1 (LeakyReLU)    (None, 14, 14, 64)        0         \n",
      "_________________________________________________________________\n",
      "max_pooling2d_1 (MaxPooling2 (None, 7, 7, 64)          0         \n",
      "_________________________________________________________________\n",
      "conv2d_3 (Conv2D)            (None, 7, 7, 128)         73856     \n",
      "_________________________________________________________________\n",
      "leaky_re_lu_2 (LeakyReLU)    (None, 7, 7, 128)         0         \n",
      "_________________________________________________________________\n",
      "max_pooling2d_2 (MaxPooling2 (None, 4, 4, 128)         0         \n",
      "_________________________________________________________________\n",
      "flatten (Flatten)            (None, 2048)              0         \n",
      "_________________________________________________________________\n",
      "dense (Dense)                (None, 128)               262272    \n",
      "_________________________________________________________________\n",
      "leaky_re_lu_3 (LeakyReLU)    (None, 128)               0         \n",
      "_________________________________________________________________\n",
      "dense_1 (Dense)              (None, 10)                1290      \n",
      "=================================================================\n",
      "Total params: 356,234\n",
      "Trainable params: 356,234\n",
      "Non-trainable params: 0\n",
      "_________________________________________________________________\n"
     ]
    }
   ],
   "source": [
    "fashion_model.summary()"
   ]
  },
  {
   "cell_type": "code",
   "execution_count": 36,
   "id": "ecdd8930-970b-4b3d-8649-d930431dd8ca",
   "metadata": {},
   "outputs": [
    {
     "name": "stdout",
     "output_type": "stream",
     "text": [
      "Epoch 1/20\n",
      "750/750 [==============================] - 139s 183ms/step - loss: 0.6270 - accuracy: 0.7766 - val_loss: 0.4417 - val_accuracy: 0.8418\n",
      "Epoch 2/20\n",
      "750/750 [==============================] - 58s 77ms/step - loss: 0.3835 - accuracy: 0.8615 - val_loss: 0.3597 - val_accuracy: 0.8715\n",
      "Epoch 3/20\n",
      "750/750 [==============================] - 13s 18ms/step - loss: 0.3334 - accuracy: 0.8796 - val_loss: 0.3242 - val_accuracy: 0.8838\n",
      "Epoch 4/20\n",
      "750/750 [==============================] - 16s 22ms/step - loss: 0.3022 - accuracy: 0.8907 - val_loss: 0.3031 - val_accuracy: 0.8907\n",
      "Epoch 5/20\n",
      "750/750 [==============================] - 14s 18ms/step - loss: 0.2816 - accuracy: 0.8971 - val_loss: 0.2972 - val_accuracy: 0.8887\n",
      "Epoch 6/20\n",
      "750/750 [==============================] - 26s 35ms/step - loss: 0.2621 - accuracy: 0.9042 - val_loss: 0.2978 - val_accuracy: 0.8931\n",
      "Epoch 7/20\n",
      "750/750 [==============================] - 19s 25ms/step - loss: 0.2487 - accuracy: 0.9096 - val_loss: 0.2891 - val_accuracy: 0.8951\n",
      "Epoch 8/20\n",
      "750/750 [==============================] - 24s 31ms/step - loss: 0.2341 - accuracy: 0.9137 - val_loss: 0.2716 - val_accuracy: 0.9012\n",
      "Epoch 9/20\n",
      "750/750 [==============================] - 30s 40ms/step - loss: 0.2211 - accuracy: 0.9187 - val_loss: 0.2530 - val_accuracy: 0.9065\n",
      "Epoch 10/20\n",
      "750/750 [==============================] - 24s 32ms/step - loss: 0.2098 - accuracy: 0.9236 - val_loss: 0.2826 - val_accuracy: 0.8981\n",
      "Epoch 11/20\n",
      "750/750 [==============================] - 27s 36ms/step - loss: 0.1987 - accuracy: 0.9282 - val_loss: 0.2561 - val_accuracy: 0.9094\n",
      "Epoch 12/20\n",
      "750/750 [==============================] - 16s 21ms/step - loss: 0.1886 - accuracy: 0.9309 - val_loss: 0.2526 - val_accuracy: 0.9105\n",
      "Epoch 13/20\n",
      "750/750 [==============================] - 19s 26ms/step - loss: 0.1776 - accuracy: 0.9352 - val_loss: 0.2317 - val_accuracy: 0.9169\n",
      "Epoch 14/20\n",
      "750/750 [==============================] - 20s 27ms/step - loss: 0.1707 - accuracy: 0.9367 - val_loss: 0.2494 - val_accuracy: 0.9109\n",
      "Epoch 15/20\n",
      "750/750 [==============================] - 13s 18ms/step - loss: 0.1598 - accuracy: 0.9430 - val_loss: 0.2345 - val_accuracy: 0.9149\n",
      "Epoch 16/20\n",
      "750/750 [==============================] - 44s 59ms/step - loss: 0.1510 - accuracy: 0.9448 - val_loss: 0.2375 - val_accuracy: 0.9171\n",
      "Epoch 17/20\n",
      "750/750 [==============================] - 18s 24ms/step - loss: 0.1440 - accuracy: 0.9483 - val_loss: 0.2475 - val_accuracy: 0.9137\n",
      "Epoch 18/20\n",
      "750/750 [==============================] - 19s 25ms/step - loss: 0.1352 - accuracy: 0.9508 - val_loss: 0.2343 - val_accuracy: 0.9199\n",
      "Epoch 19/20\n",
      "750/750 [==============================] - 18s 23ms/step - loss: 0.1298 - accuracy: 0.9525 - val_loss: 0.2318 - val_accuracy: 0.9211\n",
      "Epoch 20/20\n",
      "750/750 [==============================] - 17s 22ms/step - loss: 0.1198 - accuracy: 0.9557 - val_loss: 0.2353 - val_accuracy: 0.9212\n"
     ]
    }
   ],
   "source": [
    "fashion_train = fashion_model.fit(train_X, train_label, batch_size=batch_size,epochs=epochs,verbose=1,validation_data=(valid_X, valid_label))"
   ]
  },
  {
   "cell_type": "code",
   "execution_count": 37,
   "id": "4689c085-e81d-452e-b378-e8d9b900ad0c",
   "metadata": {},
   "outputs": [],
   "source": [
    "test_eval = fashion_model.evaluate(test_X, test_Y_one_hot, verbose=0)"
   ]
  },
  {
   "cell_type": "code",
   "execution_count": 42,
   "id": "8bafdd78-1c3e-4b59-8acf-87898c4bd49b",
   "metadata": {},
   "outputs": [
    {
     "data": {
      "image/png": "[encoded data removed]",
      "text/plain": [
       "<Figure size 432x288 with 1 Axes>"
      ]
     },
     "metadata": {
      "needs_background": "light"
     },
     "output_type": "display_data"
    },
    {
     "data": {
      "image/png": "[encoded data removed]",
      "text/plain": [
       "<Figure size 432x288 with 1 Axes>"
      ]
     },
     "metadata": {
      "needs_background": "light"
     },
     "output_type": "display_data"
    }
   ],
   "source": [
    "accuracy = fashion_train.history['accuracy']\n",
    "val_accuracy = fashion_train.history['val_accuracy']\n",
    "loss = fashion_train.history['loss']\n",
    "val_loss = fashion_train.history['val_loss']\n",
    "epochs = range(len(accuracy))\n",
    "plt.plot(epochs, accuracy, 'bo', label='Training accuracy')\n",
    "plt.plot(epochs, val_accuracy, 'b', label='Validation accuracy')\n",
    "plt.title('Training and validation accuracy')\n",
    "plt.legend()\n",
    "plt.figure()\n",
    "plt.plot(epochs, loss, 'bo', label='Training loss')\n",
    "plt.plot(epochs, val_loss, 'b', label='Validation loss')\n",
    "plt.title('Training and validation loss')\n",
    "plt.legend()\n",
    "plt.show()"
   ]
  },
  {
   "cell_type": "code",
   "execution_count": 43,
   "id": "8f86f1a1-9a0e-4201-8a55-db90ff322ea7",
   "metadata": {},
   "outputs": [],
   "source": [
    "batch_size = 64\n",
    "epochs = 20\n",
    "num_classes = 10"
   ]
  },
  {
   "cell_type": "code",
   "execution_count": 44,
   "id": "b559bbdd-7756-45d8-a3c6-3acf90f11ed2",
   "metadata": {},
   "outputs": [],
   "source": [
    "fashion_model = Sequential()\n",
    "fashion_model.add(Conv2D(32, kernel_size=(3, 3),activation='linear',padding='same',input_shape=(28,28,1)))\n",
    "fashion_model.add(LeakyReLU(alpha=0.1))\n",
    "fashion_model.add(MaxPooling2D((2, 2),padding='same'))\n",
    "fashion_model.add(Dropout(0.25))\n",
    "fashion_model.add(Conv2D(64, (3, 3), activation='linear',padding='same'))\n",
    "fashion_model.add(LeakyReLU(alpha=0.1))\n",
    "fashion_model.add(MaxPooling2D(pool_size=(2, 2),padding='same'))\n",
    "fashion_model.add(Dropout(0.25))\n",
    "fashion_model.add(Conv2D(128, (3, 3), activation='linear',padding='same'))\n",
    "fashion_model.add(LeakyReLU(alpha=0.1))                  \n",
    "fashion_model.add(MaxPooling2D(pool_size=(2, 2),padding='same'))\n",
    "fashion_model.add(Dropout(0.4))\n",
    "fashion_model.add(Flatten())\n",
    "fashion_model.add(Dense(128, activation='linear'))\n",
    "fashion_model.add(LeakyReLU(alpha=0.1))           \n",
    "fashion_model.add(Dropout(0.3))\n",
    "fashion_model.add(Dense(num_classes, activation='softmax'))"
   ]
  },
  {
   "cell_type": "code",
   "execution_count": 45,
   "id": "28630a23-52f7-42c5-83ff-8959dd46adc2",
   "metadata": {},
   "outputs": [
    {
     "name": "stdout",
     "output_type": "stream",
     "text": [
      "Model: \"sequential_2\"\n",
      "_________________________________________________________________\n",
      "Layer (type)                 Output Shape              Param #   \n",
      "=================================================================\n",
      "conv2d_4 (Conv2D)            (None, 28, 28, 32)        320       \n",
      "_________________________________________________________________\n",
      "leaky_re_lu_4 (LeakyReLU)    (None, 28, 28, 32)        0         \n",
      "_________________________________________________________________\n",
      "max_pooling2d_3 (MaxPooling2 (None, 14, 14, 32)        0         \n",
      "_________________________________________________________________\n",
      "dropout (Dropout)            (None, 14, 14, 32)        0         \n",
      "_________________________________________________________________\n",
      "conv2d_5 (Conv2D)            (None, 14, 14, 64)        18496     \n",
      "_________________________________________________________________\n",
      "leaky_re_lu_5 (LeakyReLU)    (None, 14, 14, 64)        0         \n",
      "_________________________________________________________________\n",
      "max_pooling2d_4 (MaxPooling2 (None, 7, 7, 64)          0         \n",
      "_________________________________________________________________\n",
      "dropout_1 (Dropout)          (None, 7, 7, 64)          0         \n",
      "_________________________________________________________________\n",
      "conv2d_6 (Conv2D)            (None, 7, 7, 128)         73856     \n",
      "_________________________________________________________________\n",
      "leaky_re_lu_6 (LeakyReLU)    (None, 7, 7, 128)         0         \n",
      "_________________________________________________________________\n",
      "max_pooling2d_5 (MaxPooling2 (None, 4, 4, 128)         0         \n",
      "_________________________________________________________________\n",
      "dropout_2 (Dropout)          (None, 4, 4, 128)         0         \n",
      "_________________________________________________________________\n",
      "flatten_1 (Flatten)          (None, 2048)              0         \n",
      "_________________________________________________________________\n",
      "dense_2 (Dense)              (None, 128)               262272    \n",
      "_________________________________________________________________\n",
      "leaky_re_lu_7 (LeakyReLU)    (None, 128)               0         \n",
      "_________________________________________________________________\n",
      "dropout_3 (Dropout)          (None, 128)               0         \n",
      "_________________________________________________________________\n",
      "dense_3 (Dense)              (None, 10)                1290      \n",
      "=================================================================\n",
      "Total params: 356,234\n",
      "Trainable params: 356,234\n",
      "Non-trainable params: 0\n",
      "_________________________________________________________________\n"
     ]
    }
   ],
   "source": [
    "fashion_model.summary()"
   ]
  },
  {
   "cell_type": "code",
   "execution_count": 46,
   "id": "3758c1ef-4da1-4029-96cc-eb3cb1c78279",
   "metadata": {},
   "outputs": [],
   "source": [
    "fashion_model.compile(loss=keras.losses.categorical_crossentropy, optimizer=Adam(learning_rate=0.0002, beta_1=0.5),metrics=['accuracy'])\n"
   ]
  },
  {
   "cell_type": "code",
   "execution_count": 47,
   "id": "46a16235-d050-4a86-a63b-b4252b417ccd",
   "metadata": {},
   "outputs": [
    {
     "name": "stdout",
     "output_type": "stream",
     "text": [
      "Epoch 1/20\n",
      "750/750 [==============================] - 14s 18ms/step - loss: 0.8413 - accuracy: 0.6873 - val_loss: 0.5446 - val_accuracy: 0.7968\n",
      "Epoch 2/20\n",
      "750/750 [==============================] - 14s 19ms/step - loss: 0.5377 - accuracy: 0.7987 - val_loss: 0.4488 - val_accuracy: 0.8407\n",
      "Epoch 3/20\n",
      "750/750 [==============================] - 15s 21ms/step - loss: 0.4640 - accuracy: 0.8293 - val_loss: 0.3926 - val_accuracy: 0.8585\n",
      "Epoch 4/20\n",
      "750/750 [==============================] - 22s 29ms/step - loss: 0.4228 - accuracy: 0.8463 - val_loss: 0.3620 - val_accuracy: 0.8683\n",
      "Epoch 5/20\n",
      "750/750 [==============================] - 58s 77ms/step - loss: 0.3871 - accuracy: 0.8587 - val_loss: 0.3414 - val_accuracy: 0.8763\n",
      "Epoch 6/20\n",
      "750/750 [==============================] - 52s 69ms/step - loss: 0.3677 - accuracy: 0.8651 - val_loss: 0.3216 - val_accuracy: 0.8826\n",
      "Epoch 7/20\n",
      "750/750 [==============================] - 30s 40ms/step - loss: 0.3492 - accuracy: 0.8720 - val_loss: 0.3078 - val_accuracy: 0.8874\n",
      "Epoch 8/20\n",
      "750/750 [==============================] - 25s 34ms/step - loss: 0.3350 - accuracy: 0.8775 - val_loss: 0.2956 - val_accuracy: 0.8928\n",
      "Epoch 9/20\n",
      "750/750 [==============================] - 36s 48ms/step - loss: 0.3205 - accuracy: 0.8809 - val_loss: 0.2863 - val_accuracy: 0.8953\n",
      "Epoch 10/20\n",
      "750/750 [==============================] - 21s 28ms/step - loss: 0.3102 - accuracy: 0.8856 - val_loss: 0.2755 - val_accuracy: 0.8963\n",
      "Epoch 11/20\n",
      "750/750 [==============================] - 19s 25ms/step - loss: 0.2996 - accuracy: 0.8887 - val_loss: 0.2765 - val_accuracy: 0.8996\n",
      "Epoch 12/20\n",
      "750/750 [==============================] - 19s 25ms/step - loss: 0.2928 - accuracy: 0.8924 - val_loss: 0.2634 - val_accuracy: 0.9019\n",
      "Epoch 13/20\n",
      "750/750 [==============================] - 17s 23ms/step - loss: 0.2831 - accuracy: 0.8950 - val_loss: 0.2585 - val_accuracy: 0.9046\n",
      "Epoch 14/20\n",
      "750/750 [==============================] - 22s 29ms/step - loss: 0.2798 - accuracy: 0.8960 - val_loss: 0.2531 - val_accuracy: 0.9062\n",
      "Epoch 15/20\n",
      "750/750 [==============================] - 48s 65ms/step - loss: 0.2693 - accuracy: 0.9001 - val_loss: 0.2496 - val_accuracy: 0.9090\n",
      "Epoch 16/20\n",
      "750/750 [==============================] - 32s 42ms/step - loss: 0.2637 - accuracy: 0.9027 - val_loss: 0.2435 - val_accuracy: 0.9097\n",
      "Epoch 17/20\n",
      "750/750 [==============================] - 16s 21ms/step - loss: 0.2602 - accuracy: 0.9038 - val_loss: 0.2402 - val_accuracy: 0.9118\n",
      "Epoch 18/20\n",
      "750/750 [==============================] - 16s 21ms/step - loss: 0.2540 - accuracy: 0.9062 - val_loss: 0.2386 - val_accuracy: 0.9128\n",
      "Epoch 19/20\n",
      "750/750 [==============================] - 19s 26ms/step - loss: 0.2494 - accuracy: 0.9070 - val_loss: 0.2332 - val_accuracy: 0.9145\n",
      "Epoch 20/20\n",
      "750/750 [==============================] - 14s 19ms/step - loss: 0.2464 - accuracy: 0.9092 - val_loss: 0.2319 - val_accuracy: 0.9147\n"
     ]
    }
   ],
   "source": [
    "fashion_train_dropout = fashion_model.fit(train_X, train_label, batch_size=batch_size,epochs=epochs,verbose=1,validation_data=(valid_X, valid_label))"
   ]
  },
  {
   "cell_type": "code",
   "execution_count": 48,
   "id": "060b77b4-682f-4fd5-9103-499e9183fcec",
   "metadata": {},
   "outputs": [
    {
     "name": "stdout",
     "output_type": "stream",
     "text": [
      "INFO:tensorflow:Assets written to: fashion_model_dropout.h5py/assets\n"
     ]
    }
   ],
   "source": [
    "fashion_model.save(\"fashion_model_dropout.h5py\")"
   ]
  },
  {
   "cell_type": "code",
   "execution_count": 49,
   "id": "ff94fe21-1741-4209-a303-6a14aa6bd898",
   "metadata": {},
   "outputs": [
    {
     "name": "stdout",
     "output_type": "stream",
     "text": [
      "313/313 [==============================] - 3s 10ms/step - loss: 0.2410 - accuracy: 0.9099\n"
     ]
    }
   ],
   "source": [
    "test_eval = fashion_model.evaluate(test_X, test_Y_one_hot, verbose=1)"
   ]
  },
  {
   "cell_type": "code",
   "execution_count": 50,
   "id": "81fd18ad-261e-4ec5-ac16-01791b2da2ee",
   "metadata": {},
   "outputs": [
    {
     "name": "stdout",
     "output_type": "stream",
     "text": [
      "Test loss: 0.24103422462940216\n",
      "Test accuracy: 0.9099000096321106\n"
     ]
    }
   ],
   "source": [
    "print('Test loss:', test_eval[0])\n",
    "print('Test accuracy:', test_eval[1])"
   ]
  },
  {
   "cell_type": "code",
   "execution_count": 51,
   "id": "51b5e477-4e6c-4b24-bc72-1db42727859d",
   "metadata": {},
   "outputs": [
    {
     "data": {
      "image/png": "[encoded data removed]",
      "text/plain": [
       "<Figure size 432x288 with 1 Axes>"
      ]
     },
     "metadata": {
      "needs_background": "light"
     },
     "output_type": "display_data"
    },
    {
     "data": {
      "image/png": "[encoded data removed]",
      "text/plain": [
       "<Figure size 432x288 with 1 Axes>"
      ]
     },
     "metadata": {
      "needs_background": "light"
     },
     "output_type": "display_data"
    }
   ],
   "source": [
    "accuracy = fashion_train_dropout.history['accuracy']\n",
    "val_accuracy = fashion_train_dropout.history['val_accuracy']\n",
    "loss = fashion_train_dropout.history['loss']\n",
    "val_loss = fashion_train_dropout.history['val_loss']\n",
    "epochs = range(len(accuracy))\n",
    "plt.plot(epochs, accuracy, 'bo', label='Training accuracy')\n",
    "plt.plot(epochs, val_accuracy, 'b', label='Validation accuracy')\n",
    "plt.title('Training and validation accuracy')\n",
    "plt.legend()\n",
    "plt.figure()\n",
    "plt.plot(epochs, loss, 'bo', label='Training loss')\n",
    "plt.plot(epochs, val_loss, 'b', label='Validation loss')\n",
    "plt.title('Training and validation loss')\n",
    "plt.legend()\n",
    "plt.show()"
   ]
  },
  {
   "cell_type": "code",
   "execution_count": 52,
   "id": "09f7a241-6691-411a-8694-ff6917d9eca5",
   "metadata": {},
   "outputs": [],
   "source": [
    "predicted_classes = fashion_model.predict(test_X)"
   ]
  },
  {
   "cell_type": "code",
   "execution_count": 53,
   "id": "4920f4d7-9892-4fa0-8923-57a8c7e8e3f2",
   "metadata": {},
   "outputs": [],
   "source": [
    "predicted_classes = np.argmax(np.round(predicted_classes),axis=1)"
   ]
  },
  {
   "cell_type": "code",
   "execution_count": 54,
   "id": "9136b7e6-a403-4599-8975-3620740b2cca",
   "metadata": {},
   "outputs": [
    {
     "data": {
      "text/plain": [
       "((10000,), (10000,))"
      ]
     },
     "execution_count": 54,
     "metadata": {},
     "output_type": "execute_result"
    }
   ],
   "source": [
    "predicted_classes.shape, test_Y.shape"
   ]
  },
  {
   "cell_type": "code",
   "execution_count": 56,
   "id": "e58f8c8a-5bc9-4fda-9ef7-ea03a01371ee",
   "metadata": {},
   "outputs": [
    {
     "name": "stdout",
     "output_type": "stream",
     "text": [
      "Found 9031 correct labels\n"
     ]
    },
    {
     "data": {
      "image/png": "[encoded data removed]",
      "text/plain": [
       "<Figure size 432x288 with 8 Axes>"
      ]
     },
     "metadata": {
      "needs_background": "light"
     },
     "output_type": "display_data"
    }
   ],
   "source": [
    "correct = np.where(predicted_classes==test_Y)[0]\n",
    "print( \"Found %d correct labels\" % len(correct))\n",
    "for i, correct in enumerate(correct[:9]):\n",
    "    plt.subplot(3,3,i+1)\n",
    "    plt.imshow(test_X[correct].reshape(28,28), cmap='gray', interpolation='none')\n",
    "    plt.title(\"Predicted {}, Class {}\".format(predicted_classes[correct], test_Y[correct]))\n",
    "    plt.tight_layout()"
   ]
  },
  {
   "cell_type": "code",
   "execution_count": 57,
   "id": "e4a7ff0f-b6e8-446e-9630-45fa8bf21a16",
   "metadata": {},
   "outputs": [
    {
     "name": "stdout",
     "output_type": "stream",
     "text": [
      "Found 969 incorrect labels\n"
     ]
    },
    {
     "data": {
      "image/png": "[encoded data removed]",
      "text/plain": [
       "<Figure size 432x288 with 8 Axes>"
      ]
     },
     "metadata": {
      "needs_background": "light"
     },
     "output_type": "display_data"
    }
   ],
   "source": [
    "incorrect = np.where(predicted_classes!=test_Y)[0]\n",
    "print (\"Found %d incorrect labels\" % len(incorrect))\n",
    "for i, incorrect in enumerate(incorrect[:9]):\n",
    "    plt.subplot(3,3,i+1)\n",
    "    plt.imshow(test_X[incorrect].reshape(28,28), cmap='gray', interpolation='none')\n",
    "    plt.title(\"Predicted {}, Class {}\".format(predicted_classes[incorrect], test_Y[incorrect]))\n",
    "    plt.tight_layout()\n"
   ]
  },
  {
   "cell_type": "code",
   "execution_count": 58,
   "id": "096c675b-17be-4602-a509-1a99a37be6ef",
   "metadata": {},
   "outputs": [
    {
     "name": "stdout",
     "output_type": "stream",
     "text": [
      "              precision    recall  f1-score   support\n",
      "\n",
      "     Class 0       0.71      0.91      0.80      1000\n",
      "     Class 1       0.99      0.98      0.98      1000\n",
      "     Class 2       0.88      0.86      0.87      1000\n",
      "     Class 3       0.93      0.88      0.90      1000\n",
      "     Class 4       0.86      0.86      0.86      1000\n",
      "     Class 5       0.99      0.98      0.98      1000\n",
      "     Class 6       0.81      0.67      0.73      1000\n",
      "     Class 7       0.95      0.98      0.96      1000\n",
      "     Class 8       0.99      0.97      0.98      1000\n",
      "     Class 9       0.98      0.95      0.97      1000\n",
      "\n",
      "    accuracy                           0.90     10000\n",
      "   macro avg       0.91      0.90      0.90     10000\n",
      "weighted avg       0.91      0.90      0.90     10000\n",
      "\n"
     ]
    }
   ],
   "source": [
    "from sklearn.metrics import classification_report\n",
    "target_names = [\"Class {}\".format(i) for i in range(num_classes)]\n",
    "print(classification_report(test_Y, predicted_classes, target_names=target_names))"
   ]
  },
  {
   "cell_type": "markdown",
   "id": "06dce10e-887c-4f79-b195-18d937233af8",
   "metadata": {},
   "source": [
    "refrence:\n",
    "https://www.datacamp.com/tutorial/convolutional-neural-networks-python"
   ]
  },
  {
   "cell_type": "code",
   "execution_count": null,
   "id": "9db9f7b9-4f8d-419c-acea-7e9fb916c821",
   "metadata": {},
   "outputs": [],
   "source": []
  }
 ],
 "metadata": {
  "kernelspec": {
   "display_name": "Python 3",
   "language": "python",
   "name": "python3"
  },
  "language_info": {
   "codemirror_mode": {
    "name": "ipython",
    "version": 3
   },
   "file_extension": ".py",
   "mimetype": "text/x-python",
   "name": "python",
   "nbconvert_exporter": "python",
   "pygments_lexer": "ipython3",
   "version": "3.9.12"
  }
 },
 "nbformat": 4,
 "nbformat_minor": 5
}
