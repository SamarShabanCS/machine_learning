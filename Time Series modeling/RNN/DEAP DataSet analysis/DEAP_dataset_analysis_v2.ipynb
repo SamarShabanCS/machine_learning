{
  "nbformat": 4,
  "nbformat_minor": 0,
  "metadata": {
    "colab": {
      "provenance": []
    },
    "kernelspec": {
      "name": "python3",
      "display_name": "Python 3"
    },
    "language_info": {
      "name": "python"
    }
  },
  "cells": [
    {
      "cell_type": "code",
      "execution_count": 14,
      "metadata": {
        "id": "wryx019296hk"
      },
      "outputs": [],
      "source": [
        "import numpy as np\n",
        "import os\n",
        "import matplotlib.pyplot as plt\n",
        "from scipy.stats import skew, kurtosis\n",
        "import pandas as pd\n",
        "import pickle"
      ]
    },
    {
      "cell_type": "code",
      "source": [
        "path =  '/content/drive/MyDrive/DEAP DS/'\n",
        "files = os.listdir(path)"
      ],
      "metadata": {
        "id": "eJOWQrpq_bzE"
      },
      "execution_count": 4,
      "outputs": []
    },
    {
      "cell_type": "code",
      "source": [
        "dat_files = [file1 for file1 in files if file1.endswith('.dat')]"
      ],
      "metadata": {
        "id": "TklzSfGL_pHr"
      },
      "execution_count": 9,
      "outputs": []
    },
    {
      "cell_type": "code",
      "source": [
        "data = []\n",
        "labels = []\n",
        "\n",
        "for file1 in dat_files:\n",
        "  file_path = os.path.join(path,file1)\n",
        "  with open(file_path,'rb') as file2:\n",
        "    file_data = pickle.load(file2, encoding='latin1')\n",
        "    data.append(file_data['data'])\n",
        "    labels.append(file_data['labels'])"
      ],
      "metadata": {
        "id": "MNQgN7asAEOj"
      },
      "execution_count": 10,
      "outputs": []
    },
    {
      "cell_type": "code",
      "source": [
        "labels = np.array(labels)\n",
        "data = np.array(data)\n",
        "print(labels.shape)\n",
        "print(data.shape)"
      ],
      "metadata": {
        "colab": {
          "base_uri": "https://localhost:8080/"
        },
        "id": "ZMUrgj_rBT65",
        "outputId": "c42386ce-1ea0-4776-ace2-7ba8eb5fe1fc"
      },
      "execution_count": 11,
      "outputs": [
        {
          "output_type": "stream",
          "name": "stdout",
          "text": [
            "(32, 40, 4)\n",
            "(32, 40, 40, 8064)\n"
          ]
        }
      ]
    },
    {
      "cell_type": "code",
      "source": [
        "labels = labels.reshape(1280, 4)\n",
        "data = data.reshape(1280, 40, 8064)\n",
        "print(labels.shape)\n",
        "print(data.shape)"
      ],
      "metadata": {
        "colab": {
          "base_uri": "https://localhost:8080/"
        },
        "id": "-h-6wLNHD7dG",
        "outputId": "737db5ec-d680-4da9-b6ba-04d003b5af02"
      },
      "execution_count": 12,
      "outputs": [
        {
          "output_type": "stream",
          "name": "stdout",
          "text": [
            "(1280, 4)\n",
            "(1280, 40, 8064)\n"
          ]
        }
      ]
    },
    {
      "cell_type": "code",
      "source": [
        "eeg_data = data[:,:32,:]\n",
        "print(eeg_data.shape)"
      ],
      "metadata": {
        "colab": {
          "base_uri": "https://localhost:8080/"
        },
        "id": "foYJRdSUEH8u",
        "outputId": "c110787f-607f-49e5-95fd-95ce835df1d0"
      },
      "execution_count": 13,
      "outputs": [
        {
          "output_type": "stream",
          "name": "stdout",
          "text": [
            "(1280, 32, 8064)\n"
          ]
        }
      ]
    },
    {
      "cell_type": "markdown",
      "source": [
        "----------------------------------------------------------------------------\n",
        "\n",
        "***Kurtosis*** indicates how much data resides in the tails.\n",
        "\n",
        "***Skewness*** is the degree of asymmetry observed in a probability distribution.Distributions can be positive and right-skewed, or negative and left-skewed.\n"
      ],
      "metadata": {
        "id": "d5HW8XAeGWo7"
      }
    },
    {
      "cell_type": "code",
      "source": [
        "#this code is to extract the main features.\n",
        "# Function to calculate statistical features for each EEG band\n",
        "def calculate_statistical_features(data):\n",
        "    # Compute mean, standard deviation, kurtosis, and skewness\n",
        "    mean = np.mean(data, axis=1)\n",
        "    std_dev = np.std(data, axis=1)\n",
        "    kurt = kurtosis(data, axis=1)\n",
        "    skewness = skew(data, axis=1)\n",
        "    # Combine features into a single array\n",
        "    features = np.vstack((mean, std_dev, kurt, skewness)).T\n",
        "    return features"
      ],
      "metadata": {
        "id": "0p6xp5jHEW67"
      },
      "execution_count": 15,
      "outputs": []
    },
    {
      "cell_type": "code",
      "source": [
        "# Calculate statistical features for each EEG band separately\n",
        "eeg_stat_features = []\n",
        "for band_data in eeg_data.transpose(1, 0, 2):\n",
        "    band_features = calculate_statistical_features(band_data)\n",
        "    eeg_stat_features.append(band_features)"
      ],
      "metadata": {
        "id": "mKt8GvMsL-fo"
      },
      "execution_count": 16,
      "outputs": []
    },
    {
      "cell_type": "code",
      "source": [
        "\n",
        "# Concatenate features horizontally\n",
        "eeg_stat_features = np.concatenate(eeg_stat_features, axis=1)\n"
      ],
      "metadata": {
        "id": "dj6wDV4PMBHg"
      },
      "execution_count": 17,
      "outputs": []
    },
    {
      "cell_type": "code",
      "source": [
        "# Print the shape of the calculated features\n",
        "print(\"Shape of statistical features:\", eeg_stat_features.shape)\n"
      ],
      "metadata": {
        "colab": {
          "base_uri": "https://localhost:8080/"
        },
        "id": "p2omGa22Mq8_",
        "outputId": "ccc3797e-252c-4952-8f32-f7ee713439a7"
      },
      "execution_count": 18,
      "outputs": [
        {
          "output_type": "stream",
          "name": "stdout",
          "text": [
            "Shape of statistical features: (1280, 128)\n"
          ]
        }
      ]
    },
    {
      "cell_type": "code",
      "source": [
        "# Convert features to a DataFrame for better visualization\n",
        "df_stat_features = pd.DataFrame(eeg_stat_features)\n",
        "\n",
        "# Display the DataFrame\n",
        "print(df_stat_features)"
      ],
      "metadata": {
        "colab": {
          "base_uri": "https://localhost:8080/"
        },
        "id": "yNfuaeHOMuHY",
        "outputId": "ef66b41a-6934-49dd-9705-c5ed71859035"
      },
      "execution_count": 19,
      "outputs": [
        {
          "output_type": "stream",
          "name": "stdout",
          "text": [
            "           0         1          2         3         4          5          6    \\\n",
            "0    -0.028259  3.889422   0.743994 -0.046640 -0.015335   4.214492   1.329109   \n",
            "1    -0.082712  4.260994   0.710815 -0.083895 -0.031351   4.599634   0.851373   \n",
            "2     0.060689  4.317223   0.822480 -0.032862  0.081124   4.728715   1.665044   \n",
            "3    -0.027773  3.961901   0.869061 -0.061074 -0.011902   4.352078   1.322036   \n",
            "4    -0.062537  3.522773   0.368222  0.012391 -0.072949   3.675880   0.835610   \n",
            "...        ...       ...        ...       ...       ...        ...        ...   \n",
            "1275 -0.015068  4.255723   0.785196 -0.187781 -0.439097  20.216307   7.920831   \n",
            "1276 -0.074093  4.624853   0.950409 -0.174292 -0.608723  21.732170  12.642059   \n",
            "1277 -0.012218  4.211918   0.797275 -0.109377  0.272855  20.021320   9.018652   \n",
            "1278  0.048134  5.774315  11.005193 -0.974325  0.047834  16.377353   8.394971   \n",
            "1279 -0.030110  4.303603   0.671005 -0.224528  0.049626  19.049399  13.205100   \n",
            "\n",
            "           7         8         9    ...        118       119       120  \\\n",
            "0     0.017217 -0.003302  4.443708  ...   0.467091 -0.045536  0.012641   \n",
            "1     0.003240 -0.020466  4.804046  ...   0.548659 -0.011898  0.142353   \n",
            "2     0.041860  0.059805  5.174638  ...   0.719046  0.076244 -0.108040   \n",
            "3    -0.005123  0.017439  4.651039  ...   0.676508 -0.024066 -0.014530   \n",
            "4    -0.046043 -0.071271  3.819691  ...   0.333586  0.023896  0.062947   \n",
            "...        ...       ...       ...  ...        ...       ...       ...   \n",
            "1275 -0.315729 -0.002601  4.678638  ...   8.976574 -0.345545  0.849521   \n",
            "1276 -0.406268  0.074181  5.048888  ...  11.476460 -0.359720  1.360671   \n",
            "1277 -0.439131 -0.025265  4.769528  ...   8.785555 -0.310557 -0.669554   \n",
            "1278 -0.264200 -0.016544  5.019376  ...   9.061957 -0.321227 -0.003679   \n",
            "1279 -0.579916 -0.000615  4.949496  ...  12.344132 -0.373111 -0.150934   \n",
            "\n",
            "            121        122       123       124        125        126       127  \n",
            "0      4.732360   0.994945 -0.015523 -0.011155   4.376486   0.423327 -0.061205  \n",
            "1      5.298701   1.157640 -0.008569  0.156159   4.882664   0.636155  0.043780  \n",
            "2      5.563716   0.836383 -0.002061 -0.123599   5.181716   0.917153  0.041290  \n",
            "3      4.972076   1.003133  0.030975 -0.021971   4.699940   0.515875  0.021521  \n",
            "4      4.213513   0.405929 -0.094144  0.073402   4.175456   0.552951 -0.062906  \n",
            "...         ...        ...       ...       ...        ...        ...       ...  \n",
            "1275  40.221172  11.366083  0.452959  0.219849   9.835839   7.364396  0.344737  \n",
            "1276  46.732110  14.855182  0.471555  0.266681  11.314528   9.957922  0.298308  \n",
            "1277  39.869384  11.609557  0.492632 -0.149759   9.844736   7.921300  0.405501  \n",
            "1278  33.176725  12.103245  0.340342  0.023943   8.374301   7.507122  0.080973  \n",
            "1279  37.203406  17.781635  0.753550 -0.025165   9.350590  12.339592  0.526957  \n",
            "\n",
            "[1280 rows x 128 columns]\n"
          ]
        }
      ]
    },
    {
      "cell_type": "code",
      "source": [
        "from scipy.signal import welch\n",
        "from scipy.integrate import simps\n",
        "def bandpower(data, sf, band):\n",
        "    band = np.asarray(band)\n",
        "    low, high = band\n",
        "    nperseg = (2 / low) * sf\n",
        "    freqs, psd = welch(data, sf, nperseg=nperseg)\n",
        "    freq_res = freqs[1] - freqs[0]\n",
        "    idx_band = np.logical_and(freqs >= low, freqs <= high)\n",
        "    bp = simps(psd[idx_band], dx=freq_res)\n",
        "    return bp\n"
      ],
      "metadata": {
        "id": "-aEVrMf6M13a"
      },
      "execution_count": 20,
      "outputs": []
    },
    {
      "cell_type": "code",
      "source": [
        "\n",
        "def get_band_power(people, channel, band):\n",
        "    bd = (0,0)\n",
        "    if (band == \"delta\"):\n",
        "        bd = (0.5,4)\n",
        "    if (band == \"theta\"):\n",
        "        bd = (4,8)\n",
        "    elif (band == \"alpha\"):\n",
        "        bd = (8,12)\n",
        "    elif (band == \"beta\"):\n",
        "        bd = (12,30)\n",
        "    elif (band == \"gamma\"):\n",
        "        bd = (30,64)\n",
        "    return bandpower(eeg_data[people,channel], 128, bd)"
      ],
      "metadata": {
        "id": "F6BJ75ERPBcW"
      },
      "execution_count": 21,
      "outputs": []
    },
    {
      "cell_type": "code",
      "source": [
        "eeg_band = []\n",
        "for i in range (len(eeg_data)):\n",
        "    for j in range (len(eeg_data[0])):\n",
        "        eeg_band.append(get_band_power(i,j,\"delta\"))\n",
        "        eeg_band.append(get_band_power(i,j,\"theta\"))\n",
        "        eeg_band.append(get_band_power(i,j,\"alpha\"))\n",
        "        eeg_band.append(get_band_power(i,j,\"beta\"))\n",
        "        eeg_band.append(get_band_power(i,j,\"gamma\"))\n",
        "\n"
      ],
      "metadata": {
        "id": "fn2n8hV_POOE"
      },
      "execution_count": 22,
      "outputs": []
    },
    {
      "cell_type": "code",
      "source": [
        "eeg_band = np.array(eeg_band)\n",
        "eeg_band = eeg_band.reshape((1280,160)) # 5×32\n",
        "print(eeg_band.shape)\n"
      ],
      "metadata": {
        "colab": {
          "base_uri": "https://localhost:8080/"
        },
        "id": "OWCF5MW3PZRN",
        "outputId": "906a69f4-5ffb-4502-cb51-ec721c5ef709"
      },
      "execution_count": 23,
      "outputs": [
        {
          "output_type": "stream",
          "name": "stdout",
          "text": [
            "(1280, 160)\n"
          ]
        }
      ]
    },
    {
      "cell_type": "code",
      "source": [
        "df_label = pd.DataFrame({'Valence': labels[:,0], 'Arousal': labels[:,1],\n",
        "                        'Dominance': labels[:,2], 'Liking': labels[:,3]})\n",
        "df_label"
      ],
      "metadata": {
        "colab": {
          "base_uri": "https://localhost:8080/",
          "height": 424
        },
        "id": "2aO_fatwPvnw",
        "outputId": "941031ae-3eb5-4175-be1c-0cc1d98a54af"
      },
      "execution_count": 24,
      "outputs": [
        {
          "output_type": "execute_result",
          "data": {
            "text/plain": [
              "      Valence  Arousal  Dominance  Liking\n",
              "0        7.71     7.60       6.90    7.83\n",
              "1        8.10     7.31       7.28    8.47\n",
              "2        8.58     7.54       9.00    7.08\n",
              "3        4.94     6.01       6.12    8.06\n",
              "4        6.96     3.92       7.19    6.05\n",
              "...       ...      ...        ...     ...\n",
              "1275     3.91     6.96       5.82    3.12\n",
              "1276     2.81     6.13       6.06    1.04\n",
              "1277     3.05     7.01       5.10    1.10\n",
              "1278     3.99     7.17       4.85    1.00\n",
              "1279     7.15     4.03       9.00    1.88\n",
              "\n",
              "[1280 rows x 4 columns]"
            ],
            "text/html": [
              "\n",
              "  <div id=\"df-5043b1d3-9a55-4d85-8d7c-e9c93f3e8b84\" class=\"colab-df-container\">\n",
              "    <div>\n",
              "<style scoped>\n",
              "    .dataframe tbody tr th:only-of-type {\n",
              "        vertical-align: middle;\n",
              "    }\n",
              "\n",
              "    .dataframe tbody tr th {\n",
              "        vertical-align: top;\n",
              "    }\n",
              "\n",
              "    .dataframe thead th {\n",
              "        text-align: right;\n",
              "    }\n",
              "</style>\n",
              "<table border=\"1\" class=\"dataframe\">\n",
              "  <thead>\n",
              "    <tr style=\"text-align: right;\">\n",
              "      <th></th>\n",
              "      <th>Valence</th>\n",
              "      <th>Arousal</th>\n",
              "      <th>Dominance</th>\n",
              "      <th>Liking</th>\n",
              "    </tr>\n",
              "  </thead>\n",
              "  <tbody>\n",
              "    <tr>\n",
              "      <th>0</th>\n",
              "      <td>7.71</td>\n",
              "      <td>7.60</td>\n",
              "      <td>6.90</td>\n",
              "      <td>7.83</td>\n",
              "    </tr>\n",
              "    <tr>\n",
              "      <th>1</th>\n",
              "      <td>8.10</td>\n",
              "      <td>7.31</td>\n",
              "      <td>7.28</td>\n",
              "      <td>8.47</td>\n",
              "    </tr>\n",
              "    <tr>\n",
              "      <th>2</th>\n",
              "      <td>8.58</td>\n",
              "      <td>7.54</td>\n",
              "      <td>9.00</td>\n",
              "      <td>7.08</td>\n",
              "    </tr>\n",
              "    <tr>\n",
              "      <th>3</th>\n",
              "      <td>4.94</td>\n",
              "      <td>6.01</td>\n",
              "      <td>6.12</td>\n",
              "      <td>8.06</td>\n",
              "    </tr>\n",
              "    <tr>\n",
              "      <th>4</th>\n",
              "      <td>6.96</td>\n",
              "      <td>3.92</td>\n",
              "      <td>7.19</td>\n",
              "      <td>6.05</td>\n",
              "    </tr>\n",
              "    <tr>\n",
              "      <th>...</th>\n",
              "      <td>...</td>\n",
              "      <td>...</td>\n",
              "      <td>...</td>\n",
              "      <td>...</td>\n",
              "    </tr>\n",
              "    <tr>\n",
              "      <th>1275</th>\n",
              "      <td>3.91</td>\n",
              "      <td>6.96</td>\n",
              "      <td>5.82</td>\n",
              "      <td>3.12</td>\n",
              "    </tr>\n",
              "    <tr>\n",
              "      <th>1276</th>\n",
              "      <td>2.81</td>\n",
              "      <td>6.13</td>\n",
              "      <td>6.06</td>\n",
              "      <td>1.04</td>\n",
              "    </tr>\n",
              "    <tr>\n",
              "      <th>1277</th>\n",
              "      <td>3.05</td>\n",
              "      <td>7.01</td>\n",
              "      <td>5.10</td>\n",
              "      <td>1.10</td>\n",
              "    </tr>\n",
              "    <tr>\n",
              "      <th>1278</th>\n",
              "      <td>3.99</td>\n",
              "      <td>7.17</td>\n",
              "      <td>4.85</td>\n",
              "      <td>1.00</td>\n",
              "    </tr>\n",
              "    <tr>\n",
              "      <th>1279</th>\n",
              "      <td>7.15</td>\n",
              "      <td>4.03</td>\n",
              "      <td>9.00</td>\n",
              "      <td>1.88</td>\n",
              "    </tr>\n",
              "  </tbody>\n",
              "</table>\n",
              "<p>1280 rows × 4 columns</p>\n",
              "</div>\n",
              "    <div class=\"colab-df-buttons\">\n",
              "\n",
              "  <div class=\"colab-df-container\">\n",
              "    <button class=\"colab-df-convert\" onclick=\"convertToInteractive('df-5043b1d3-9a55-4d85-8d7c-e9c93f3e8b84')\"\n",
              "            title=\"Convert this dataframe to an interactive table.\"\n",
              "            style=\"display:none;\">\n",
              "\n",
              "  <svg xmlns=\"http://www.w3.org/2000/svg\" height=\"24px\" viewBox=\"0 -960 960 960\">\n",
              "    <path d=\"M120-120v-720h720v720H120Zm60-500h600v-160H180v160Zm220 220h160v-160H400v160Zm0 220h160v-160H400v160ZM180-400h160v-160H180v160Zm440 0h160v-160H620v160ZM180-180h160v-160H180v160Zm440 0h160v-160H620v160Z\"/>\n",
              "  </svg>\n",
              "    </button>\n",
              "\n",
              "  <style>\n",
              "    .colab-df-container {\n",
              "      display:flex;\n",
              "      gap: 12px;\n",
              "    }\n",
              "\n",
              "    .colab-df-convert {\n",
              "      background-color: #E8F0FE;\n",
              "      border: none;\n",
              "      border-radius: 50%;\n",
              "      cursor: pointer;\n",
              "      display: none;\n",
              "      fill: #1967D2;\n",
              "      height: 32px;\n",
              "      padding: 0 0 0 0;\n",
              "      width: 32px;\n",
              "    }\n",
              "\n",
              "    .colab-df-convert:hover {\n",
              "      background-color: #E2EBFA;\n",
              "      box-shadow: 0px 1px 2px rgba(60, 64, 67, 0.3), 0px 1px 3px 1px rgba(60, 64, 67, 0.15);\n",
              "      fill: #174EA6;\n",
              "    }\n",
              "\n",
              "    .colab-df-buttons div {\n",
              "      margin-bottom: 4px;\n",
              "    }\n",
              "\n",
              "    [theme=dark] .colab-df-convert {\n",
              "      background-color: #3B4455;\n",
              "      fill: #D2E3FC;\n",
              "    }\n",
              "\n",
              "    [theme=dark] .colab-df-convert:hover {\n",
              "      background-color: #434B5C;\n",
              "      box-shadow: 0px 1px 3px 1px rgba(0, 0, 0, 0.15);\n",
              "      filter: drop-shadow(0px 1px 2px rgba(0, 0, 0, 0.3));\n",
              "      fill: #FFFFFF;\n",
              "    }\n",
              "  </style>\n",
              "\n",
              "    <script>\n",
              "      const buttonEl =\n",
              "        document.querySelector('#df-5043b1d3-9a55-4d85-8d7c-e9c93f3e8b84 button.colab-df-convert');\n",
              "      buttonEl.style.display =\n",
              "        google.colab.kernel.accessAllowed ? 'block' : 'none';\n",
              "\n",
              "      async function convertToInteractive(key) {\n",
              "        const element = document.querySelector('#df-5043b1d3-9a55-4d85-8d7c-e9c93f3e8b84');\n",
              "        const dataTable =\n",
              "          await google.colab.kernel.invokeFunction('convertToInteractive',\n",
              "                                                    [key], {});\n",
              "        if (!dataTable) return;\n",
              "\n",
              "        const docLinkHtml = 'Like what you see? Visit the ' +\n",
              "          '<a target=\"_blank\" href=https://colab.research.google.com/notebooks/data_table.ipynb>data table notebook</a>'\n",
              "          + ' to learn more about interactive tables.';\n",
              "        element.innerHTML = '';\n",
              "        dataTable['output_type'] = 'display_data';\n",
              "        await google.colab.output.renderOutput(dataTable, element);\n",
              "        const docLink = document.createElement('div');\n",
              "        docLink.innerHTML = docLinkHtml;\n",
              "        element.appendChild(docLink);\n",
              "      }\n",
              "    </script>\n",
              "  </div>\n",
              "\n",
              "\n",
              "<div id=\"df-d1a417d5-7821-4571-b2b8-a1b4c30caef6\">\n",
              "  <button class=\"colab-df-quickchart\" onclick=\"quickchart('df-d1a417d5-7821-4571-b2b8-a1b4c30caef6')\"\n",
              "            title=\"Suggest charts\"\n",
              "            style=\"display:none;\">\n",
              "\n",
              "<svg xmlns=\"http://www.w3.org/2000/svg\" height=\"24px\"viewBox=\"0 0 24 24\"\n",
              "     width=\"24px\">\n",
              "    <g>\n",
              "        <path d=\"M19 3H5c-1.1 0-2 .9-2 2v14c0 1.1.9 2 2 2h14c1.1 0 2-.9 2-2V5c0-1.1-.9-2-2-2zM9 17H7v-7h2v7zm4 0h-2V7h2v10zm4 0h-2v-4h2v4z\"/>\n",
              "    </g>\n",
              "</svg>\n",
              "  </button>\n",
              "\n",
              "<style>\n",
              "  .colab-df-quickchart {\n",
              "      --bg-color: #E8F0FE;\n",
              "      --fill-color: #1967D2;\n",
              "      --hover-bg-color: #E2EBFA;\n",
              "      --hover-fill-color: #174EA6;\n",
              "      --disabled-fill-color: #AAA;\n",
              "      --disabled-bg-color: #DDD;\n",
              "  }\n",
              "\n",
              "  [theme=dark] .colab-df-quickchart {\n",
              "      --bg-color: #3B4455;\n",
              "      --fill-color: #D2E3FC;\n",
              "      --hover-bg-color: #434B5C;\n",
              "      --hover-fill-color: #FFFFFF;\n",
              "      --disabled-bg-color: #3B4455;\n",
              "      --disabled-fill-color: #666;\n",
              "  }\n",
              "\n",
              "  .colab-df-quickchart {\n",
              "    background-color: var(--bg-color);\n",
              "    border: none;\n",
              "    border-radius: 50%;\n",
              "    cursor: pointer;\n",
              "    display: none;\n",
              "    fill: var(--fill-color);\n",
              "    height: 32px;\n",
              "    padding: 0;\n",
              "    width: 32px;\n",
              "  }\n",
              "\n",
              "  .colab-df-quickchart:hover {\n",
              "    background-color: var(--hover-bg-color);\n",
              "    box-shadow: 0 1px 2px rgba(60, 64, 67, 0.3), 0 1px 3px 1px rgba(60, 64, 67, 0.15);\n",
              "    fill: var(--button-hover-fill-color);\n",
              "  }\n",
              "\n",
              "  .colab-df-quickchart-complete:disabled,\n",
              "  .colab-df-quickchart-complete:disabled:hover {\n",
              "    background-color: var(--disabled-bg-color);\n",
              "    fill: var(--disabled-fill-color);\n",
              "    box-shadow: none;\n",
              "  }\n",
              "\n",
              "  .colab-df-spinner {\n",
              "    border: 2px solid var(--fill-color);\n",
              "    border-color: transparent;\n",
              "    border-bottom-color: var(--fill-color);\n",
              "    animation:\n",
              "      spin 1s steps(1) infinite;\n",
              "  }\n",
              "\n",
              "  @keyframes spin {\n",
              "    0% {\n",
              "      border-color: transparent;\n",
              "      border-bottom-color: var(--fill-color);\n",
              "      border-left-color: var(--fill-color);\n",
              "    }\n",
              "    20% {\n",
              "      border-color: transparent;\n",
              "      border-left-color: var(--fill-color);\n",
              "      border-top-color: var(--fill-color);\n",
              "    }\n",
              "    30% {\n",
              "      border-color: transparent;\n",
              "      border-left-color: var(--fill-color);\n",
              "      border-top-color: var(--fill-color);\n",
              "      border-right-color: var(--fill-color);\n",
              "    }\n",
              "    40% {\n",
              "      border-color: transparent;\n",
              "      border-right-color: var(--fill-color);\n",
              "      border-top-color: var(--fill-color);\n",
              "    }\n",
              "    60% {\n",
              "      border-color: transparent;\n",
              "      border-right-color: var(--fill-color);\n",
              "    }\n",
              "    80% {\n",
              "      border-color: transparent;\n",
              "      border-right-color: var(--fill-color);\n",
              "      border-bottom-color: var(--fill-color);\n",
              "    }\n",
              "    90% {\n",
              "      border-color: transparent;\n",
              "      border-bottom-color: var(--fill-color);\n",
              "    }\n",
              "  }\n",
              "</style>\n",
              "\n",
              "  <script>\n",
              "    async function quickchart(key) {\n",
              "      const quickchartButtonEl =\n",
              "        document.querySelector('#' + key + ' button');\n",
              "      quickchartButtonEl.disabled = true;  // To prevent multiple clicks.\n",
              "      quickchartButtonEl.classList.add('colab-df-spinner');\n",
              "      try {\n",
              "        const charts = await google.colab.kernel.invokeFunction(\n",
              "            'suggestCharts', [key], {});\n",
              "      } catch (error) {\n",
              "        console.error('Error during call to suggestCharts:', error);\n",
              "      }\n",
              "      quickchartButtonEl.classList.remove('colab-df-spinner');\n",
              "      quickchartButtonEl.classList.add('colab-df-quickchart-complete');\n",
              "    }\n",
              "    (() => {\n",
              "      let quickchartButtonEl =\n",
              "        document.querySelector('#df-d1a417d5-7821-4571-b2b8-a1b4c30caef6 button');\n",
              "      quickchartButtonEl.style.display =\n",
              "        google.colab.kernel.accessAllowed ? 'block' : 'none';\n",
              "    })();\n",
              "  </script>\n",
              "</div>\n",
              "    </div>\n",
              "  </div>\n"
            ],
            "application/vnd.google.colaboratory.intrinsic+json": {
              "type": "dataframe",
              "variable_name": "df_label",
              "summary": "{\n  \"name\": \"df_label\",\n  \"rows\": 1280,\n  \"fields\": [\n    {\n      \"column\": \"Valence\",\n      \"properties\": {\n        \"dtype\": \"number\",\n        \"std\": 2.1308155293624105,\n        \"min\": 1.0,\n        \"max\": 9.0,\n        \"num_unique_values\": 407,\n        \"samples\": [\n          7.1,\n          5.94,\n          6.86\n        ],\n        \"semantic_type\": \"\",\n        \"description\": \"\"\n      }\n    },\n    {\n      \"column\": \"Arousal\",\n      \"properties\": {\n        \"dtype\": \"number\",\n        \"std\": 2.0204994879104774,\n        \"min\": 1.0,\n        \"max\": 9.0,\n        \"num_unique_values\": 382,\n        \"samples\": [\n          3.32,\n          1.13,\n          3.64\n        ],\n        \"semantic_type\": \"\",\n        \"description\": \"\"\n      }\n    },\n    {\n      \"column\": \"Dominance\",\n      \"properties\": {\n        \"dtype\": \"number\",\n        \"std\": 2.096321160540854,\n        \"min\": 1.0,\n        \"max\": 9.0,\n        \"num_unique_values\": 391,\n        \"samples\": [\n          2.04,\n          3.65,\n          6.5\n        ],\n        \"semantic_type\": \"\",\n        \"description\": \"\"\n      }\n    },\n    {\n      \"column\": \"Liking\",\n      \"properties\": {\n        \"dtype\": \"number\",\n        \"std\": 2.2827795077531876,\n        \"min\": 1.0,\n        \"max\": 9.0,\n        \"num_unique_values\": 382,\n        \"samples\": [\n          2.03,\n          1.03,\n          6.5\n        ],\n        \"semantic_type\": \"\",\n        \"description\": \"\"\n      }\n    }\n  ]\n}"
            }
          },
          "metadata": {},
          "execution_count": 24
        }
      ]
    },
    {
      "cell_type": "code",
      "source": [
        "df_label.info()"
      ],
      "metadata": {
        "colab": {
          "base_uri": "https://localhost:8080/"
        },
        "id": "MrgDlsfJP4aR",
        "outputId": "620d34c8-511c-4319-adf1-7448d40def6a"
      },
      "execution_count": 25,
      "outputs": [
        {
          "output_type": "stream",
          "name": "stdout",
          "text": [
            "<class 'pandas.core.frame.DataFrame'>\n",
            "RangeIndex: 1280 entries, 0 to 1279\n",
            "Data columns (total 4 columns):\n",
            " #   Column     Non-Null Count  Dtype  \n",
            "---  ------     --------------  -----  \n",
            " 0   Valence    1280 non-null   float64\n",
            " 1   Arousal    1280 non-null   float64\n",
            " 2   Dominance  1280 non-null   float64\n",
            " 3   Liking     1280 non-null   float64\n",
            "dtypes: float64(4)\n",
            "memory usage: 40.1 KB\n"
          ]
        }
      ]
    },
    {
      "cell_type": "code",
      "source": [
        "df_label.describe()"
      ],
      "metadata": {
        "colab": {
          "base_uri": "https://localhost:8080/",
          "height": 300
        },
        "id": "fczskjzxQB2l",
        "outputId": "bf35962a-ad6f-47a3-d7c2-f63b83470465"
      },
      "execution_count": 26,
      "outputs": [
        {
          "output_type": "execute_result",
          "data": {
            "text/plain": [
              "           Valence      Arousal    Dominance       Liking\n",
              "count  1280.000000  1280.000000  1280.000000  1280.000000\n",
              "mean      5.254313     5.156711     5.382750     5.518133\n",
              "std       2.130816     2.020499     2.096321     2.282780\n",
              "min       1.000000     1.000000     1.000000     1.000000\n",
              "25%       3.867500     3.762500     3.932500     3.960000\n",
              "50%       5.040000     5.230000     5.240000     6.050000\n",
              "75%       7.050000     6.950000     7.040000     7.090000\n",
              "max       9.000000     9.000000     9.000000     9.000000"
            ],
            "text/html": [
              "\n",
              "  <div id=\"df-9861a515-785d-4ca5-97c3-c59a190d6c05\" class=\"colab-df-container\">\n",
              "    <div>\n",
              "<style scoped>\n",
              "    .dataframe tbody tr th:only-of-type {\n",
              "        vertical-align: middle;\n",
              "    }\n",
              "\n",
              "    .dataframe tbody tr th {\n",
              "        vertical-align: top;\n",
              "    }\n",
              "\n",
              "    .dataframe thead th {\n",
              "        text-align: right;\n",
              "    }\n",
              "</style>\n",
              "<table border=\"1\" class=\"dataframe\">\n",
              "  <thead>\n",
              "    <tr style=\"text-align: right;\">\n",
              "      <th></th>\n",
              "      <th>Valence</th>\n",
              "      <th>Arousal</th>\n",
              "      <th>Dominance</th>\n",
              "      <th>Liking</th>\n",
              "    </tr>\n",
              "  </thead>\n",
              "  <tbody>\n",
              "    <tr>\n",
              "      <th>count</th>\n",
              "      <td>1280.000000</td>\n",
              "      <td>1280.000000</td>\n",
              "      <td>1280.000000</td>\n",
              "      <td>1280.000000</td>\n",
              "    </tr>\n",
              "    <tr>\n",
              "      <th>mean</th>\n",
              "      <td>5.254313</td>\n",
              "      <td>5.156711</td>\n",
              "      <td>5.382750</td>\n",
              "      <td>5.518133</td>\n",
              "    </tr>\n",
              "    <tr>\n",
              "      <th>std</th>\n",
              "      <td>2.130816</td>\n",
              "      <td>2.020499</td>\n",
              "      <td>2.096321</td>\n",
              "      <td>2.282780</td>\n",
              "    </tr>\n",
              "    <tr>\n",
              "      <th>min</th>\n",
              "      <td>1.000000</td>\n",
              "      <td>1.000000</td>\n",
              "      <td>1.000000</td>\n",
              "      <td>1.000000</td>\n",
              "    </tr>\n",
              "    <tr>\n",
              "      <th>25%</th>\n",
              "      <td>3.867500</td>\n",
              "      <td>3.762500</td>\n",
              "      <td>3.932500</td>\n",
              "      <td>3.960000</td>\n",
              "    </tr>\n",
              "    <tr>\n",
              "      <th>50%</th>\n",
              "      <td>5.040000</td>\n",
              "      <td>5.230000</td>\n",
              "      <td>5.240000</td>\n",
              "      <td>6.050000</td>\n",
              "    </tr>\n",
              "    <tr>\n",
              "      <th>75%</th>\n",
              "      <td>7.050000</td>\n",
              "      <td>6.950000</td>\n",
              "      <td>7.040000</td>\n",
              "      <td>7.090000</td>\n",
              "    </tr>\n",
              "    <tr>\n",
              "      <th>max</th>\n",
              "      <td>9.000000</td>\n",
              "      <td>9.000000</td>\n",
              "      <td>9.000000</td>\n",
              "      <td>9.000000</td>\n",
              "    </tr>\n",
              "  </tbody>\n",
              "</table>\n",
              "</div>\n",
              "    <div class=\"colab-df-buttons\">\n",
              "\n",
              "  <div class=\"colab-df-container\">\n",
              "    <button class=\"colab-df-convert\" onclick=\"convertToInteractive('df-9861a515-785d-4ca5-97c3-c59a190d6c05')\"\n",
              "            title=\"Convert this dataframe to an interactive table.\"\n",
              "            style=\"display:none;\">\n",
              "\n",
              "  <svg xmlns=\"http://www.w3.org/2000/svg\" height=\"24px\" viewBox=\"0 -960 960 960\">\n",
              "    <path d=\"M120-120v-720h720v720H120Zm60-500h600v-160H180v160Zm220 220h160v-160H400v160Zm0 220h160v-160H400v160ZM180-400h160v-160H180v160Zm440 0h160v-160H620v160ZM180-180h160v-160H180v160Zm440 0h160v-160H620v160Z\"/>\n",
              "  </svg>\n",
              "    </button>\n",
              "\n",
              "  <style>\n",
              "    .colab-df-container {\n",
              "      display:flex;\n",
              "      gap: 12px;\n",
              "    }\n",
              "\n",
              "    .colab-df-convert {\n",
              "      background-color: #E8F0FE;\n",
              "      border: none;\n",
              "      border-radius: 50%;\n",
              "      cursor: pointer;\n",
              "      display: none;\n",
              "      fill: #1967D2;\n",
              "      height: 32px;\n",
              "      padding: 0 0 0 0;\n",
              "      width: 32px;\n",
              "    }\n",
              "\n",
              "    .colab-df-convert:hover {\n",
              "      background-color: #E2EBFA;\n",
              "      box-shadow: 0px 1px 2px rgba(60, 64, 67, 0.3), 0px 1px 3px 1px rgba(60, 64, 67, 0.15);\n",
              "      fill: #174EA6;\n",
              "    }\n",
              "\n",
              "    .colab-df-buttons div {\n",
              "      margin-bottom: 4px;\n",
              "    }\n",
              "\n",
              "    [theme=dark] .colab-df-convert {\n",
              "      background-color: #3B4455;\n",
              "      fill: #D2E3FC;\n",
              "    }\n",
              "\n",
              "    [theme=dark] .colab-df-convert:hover {\n",
              "      background-color: #434B5C;\n",
              "      box-shadow: 0px 1px 3px 1px rgba(0, 0, 0, 0.15);\n",
              "      filter: drop-shadow(0px 1px 2px rgba(0, 0, 0, 0.3));\n",
              "      fill: #FFFFFF;\n",
              "    }\n",
              "  </style>\n",
              "\n",
              "    <script>\n",
              "      const buttonEl =\n",
              "        document.querySelector('#df-9861a515-785d-4ca5-97c3-c59a190d6c05 button.colab-df-convert');\n",
              "      buttonEl.style.display =\n",
              "        google.colab.kernel.accessAllowed ? 'block' : 'none';\n",
              "\n",
              "      async function convertToInteractive(key) {\n",
              "        const element = document.querySelector('#df-9861a515-785d-4ca5-97c3-c59a190d6c05');\n",
              "        const dataTable =\n",
              "          await google.colab.kernel.invokeFunction('convertToInteractive',\n",
              "                                                    [key], {});\n",
              "        if (!dataTable) return;\n",
              "\n",
              "        const docLinkHtml = 'Like what you see? Visit the ' +\n",
              "          '<a target=\"_blank\" href=https://colab.research.google.com/notebooks/data_table.ipynb>data table notebook</a>'\n",
              "          + ' to learn more about interactive tables.';\n",
              "        element.innerHTML = '';\n",
              "        dataTable['output_type'] = 'display_data';\n",
              "        await google.colab.output.renderOutput(dataTable, element);\n",
              "        const docLink = document.createElement('div');\n",
              "        docLink.innerHTML = docLinkHtml;\n",
              "        element.appendChild(docLink);\n",
              "      }\n",
              "    </script>\n",
              "  </div>\n",
              "\n",
              "\n",
              "<div id=\"df-ef9f6771-bd38-40c1-b816-ece2dbfee9ba\">\n",
              "  <button class=\"colab-df-quickchart\" onclick=\"quickchart('df-ef9f6771-bd38-40c1-b816-ece2dbfee9ba')\"\n",
              "            title=\"Suggest charts\"\n",
              "            style=\"display:none;\">\n",
              "\n",
              "<svg xmlns=\"http://www.w3.org/2000/svg\" height=\"24px\"viewBox=\"0 0 24 24\"\n",
              "     width=\"24px\">\n",
              "    <g>\n",
              "        <path d=\"M19 3H5c-1.1 0-2 .9-2 2v14c0 1.1.9 2 2 2h14c1.1 0 2-.9 2-2V5c0-1.1-.9-2-2-2zM9 17H7v-7h2v7zm4 0h-2V7h2v10zm4 0h-2v-4h2v4z\"/>\n",
              "    </g>\n",
              "</svg>\n",
              "  </button>\n",
              "\n",
              "<style>\n",
              "  .colab-df-quickchart {\n",
              "      --bg-color: #E8F0FE;\n",
              "      --fill-color: #1967D2;\n",
              "      --hover-bg-color: #E2EBFA;\n",
              "      --hover-fill-color: #174EA6;\n",
              "      --disabled-fill-color: #AAA;\n",
              "      --disabled-bg-color: #DDD;\n",
              "  }\n",
              "\n",
              "  [theme=dark] .colab-df-quickchart {\n",
              "      --bg-color: #3B4455;\n",
              "      --fill-color: #D2E3FC;\n",
              "      --hover-bg-color: #434B5C;\n",
              "      --hover-fill-color: #FFFFFF;\n",
              "      --disabled-bg-color: #3B4455;\n",
              "      --disabled-fill-color: #666;\n",
              "  }\n",
              "\n",
              "  .colab-df-quickchart {\n",
              "    background-color: var(--bg-color);\n",
              "    border: none;\n",
              "    border-radius: 50%;\n",
              "    cursor: pointer;\n",
              "    display: none;\n",
              "    fill: var(--fill-color);\n",
              "    height: 32px;\n",
              "    padding: 0;\n",
              "    width: 32px;\n",
              "  }\n",
              "\n",
              "  .colab-df-quickchart:hover {\n",
              "    background-color: var(--hover-bg-color);\n",
              "    box-shadow: 0 1px 2px rgba(60, 64, 67, 0.3), 0 1px 3px 1px rgba(60, 64, 67, 0.15);\n",
              "    fill: var(--button-hover-fill-color);\n",
              "  }\n",
              "\n",
              "  .colab-df-quickchart-complete:disabled,\n",
              "  .colab-df-quickchart-complete:disabled:hover {\n",
              "    background-color: var(--disabled-bg-color);\n",
              "    fill: var(--disabled-fill-color);\n",
              "    box-shadow: none;\n",
              "  }\n",
              "\n",
              "  .colab-df-spinner {\n",
              "    border: 2px solid var(--fill-color);\n",
              "    border-color: transparent;\n",
              "    border-bottom-color: var(--fill-color);\n",
              "    animation:\n",
              "      spin 1s steps(1) infinite;\n",
              "  }\n",
              "\n",
              "  @keyframes spin {\n",
              "    0% {\n",
              "      border-color: transparent;\n",
              "      border-bottom-color: var(--fill-color);\n",
              "      border-left-color: var(--fill-color);\n",
              "    }\n",
              "    20% {\n",
              "      border-color: transparent;\n",
              "      border-left-color: var(--fill-color);\n",
              "      border-top-color: var(--fill-color);\n",
              "    }\n",
              "    30% {\n",
              "      border-color: transparent;\n",
              "      border-left-color: var(--fill-color);\n",
              "      border-top-color: var(--fill-color);\n",
              "      border-right-color: var(--fill-color);\n",
              "    }\n",
              "    40% {\n",
              "      border-color: transparent;\n",
              "      border-right-color: var(--fill-color);\n",
              "      border-top-color: var(--fill-color);\n",
              "    }\n",
              "    60% {\n",
              "      border-color: transparent;\n",
              "      border-right-color: var(--fill-color);\n",
              "    }\n",
              "    80% {\n",
              "      border-color: transparent;\n",
              "      border-right-color: var(--fill-color);\n",
              "      border-bottom-color: var(--fill-color);\n",
              "    }\n",
              "    90% {\n",
              "      border-color: transparent;\n",
              "      border-bottom-color: var(--fill-color);\n",
              "    }\n",
              "  }\n",
              "</style>\n",
              "\n",
              "  <script>\n",
              "    async function quickchart(key) {\n",
              "      const quickchartButtonEl =\n",
              "        document.querySelector('#' + key + ' button');\n",
              "      quickchartButtonEl.disabled = true;  // To prevent multiple clicks.\n",
              "      quickchartButtonEl.classList.add('colab-df-spinner');\n",
              "      try {\n",
              "        const charts = await google.colab.kernel.invokeFunction(\n",
              "            'suggestCharts', [key], {});\n",
              "      } catch (error) {\n",
              "        console.error('Error during call to suggestCharts:', error);\n",
              "      }\n",
              "      quickchartButtonEl.classList.remove('colab-df-spinner');\n",
              "      quickchartButtonEl.classList.add('colab-df-quickchart-complete');\n",
              "    }\n",
              "    (() => {\n",
              "      let quickchartButtonEl =\n",
              "        document.querySelector('#df-ef9f6771-bd38-40c1-b816-ece2dbfee9ba button');\n",
              "      quickchartButtonEl.style.display =\n",
              "        google.colab.kernel.accessAllowed ? 'block' : 'none';\n",
              "    })();\n",
              "  </script>\n",
              "</div>\n",
              "    </div>\n",
              "  </div>\n"
            ],
            "application/vnd.google.colaboratory.intrinsic+json": {
              "type": "dataframe",
              "summary": "{\n  \"name\": \"df_label\",\n  \"rows\": 8,\n  \"fields\": [\n    {\n      \"column\": \"Valence\",\n      \"properties\": {\n        \"dtype\": \"number\",\n        \"std\": 450.87147400594165,\n        \"min\": 1.0,\n        \"max\": 1280.0,\n        \"num_unique_values\": 8,\n        \"samples\": [\n          5.2543125,\n          5.04,\n          1280.0\n        ],\n        \"semantic_type\": \"\",\n        \"description\": \"\"\n      }\n    },\n    {\n      \"column\": \"Arousal\",\n      \"properties\": {\n        \"dtype\": \"number\",\n        \"std\": 450.88279505775586,\n        \"min\": 1.0,\n        \"max\": 1280.0,\n        \"num_unique_values\": 8,\n        \"samples\": [\n          5.1567109375,\n          5.23,\n          1280.0\n        ],\n        \"semantic_type\": \"\",\n        \"description\": \"\"\n      }\n    },\n    {\n      \"column\": \"Dominance\",\n      \"properties\": {\n        \"dtype\": \"number\",\n        \"std\": 450.85389766830843,\n        \"min\": 1.0,\n        \"max\": 1280.0,\n        \"num_unique_values\": 8,\n        \"samples\": [\n          5.38275,\n          5.24,\n          1280.0\n        ],\n        \"semantic_type\": \"\",\n        \"description\": \"\"\n      }\n    },\n    {\n      \"column\": \"Liking\",\n      \"properties\": {\n        \"dtype\": \"number\",\n        \"std\": 450.79289858765816,\n        \"min\": 1.0,\n        \"max\": 1280.0,\n        \"num_unique_values\": 8,\n        \"samples\": [\n          5.5181328125,\n          6.05,\n          1280.0\n        ],\n        \"semantic_type\": \"\",\n        \"description\": \"\"\n      }\n    }\n  ]\n}"
            }
          },
          "metadata": {},
          "execution_count": 26
        }
      ]
    },
    {
      "cell_type": "code",
      "source": [
        "label_name = [\"valence\",\"arousal\",\"dominance\",\"liking\"]\n",
        "labels_valence = []\n",
        "labels_arousal = []\n",
        "labels_dominance = []\n",
        "labels_liking = []\n",
        "for la in labels:\n",
        "    l = []\n",
        "    if la[0]>5:\n",
        "        labels_valence.append(1)\n",
        "    else:\n",
        "        labels_valence.append(0)\n",
        "    if la[1]>5:\n",
        "        labels_arousal.append(1)\n",
        "    else:\n",
        "        labels_arousal.append(0)\n",
        "    if la[2]>5:\n",
        "        labels_dominance.append(1)\n",
        "    else:\n",
        "        labels_dominance.append(0)\n",
        "    if la[3]>6:\n",
        "        labels_liking.append(1)\n",
        "    else:\n",
        "        labels_liking.append(0)"
      ],
      "metadata": {
        "id": "M3Dno5H0QLAL"
      },
      "execution_count": 27,
      "outputs": []
    },
    {
      "cell_type": "code",
      "source": [
        "data_x = eeg_stat_features\n",
        "print(data_x.shape)\n",
        "\n",
        "# label_y = labels_valence\n",
        "label_y = labels_arousal\n",
        "\n",
        "# label_y = labels_dominance\n",
        "# label_y = labels_liking\n",
        "trainscores = []\n",
        "testscores = []"
      ],
      "metadata": {
        "colab": {
          "base_uri": "https://localhost:8080/"
        },
        "id": "RGX_wYWIQWAO",
        "outputId": "04b97bc1-6e8c-4d79-ba68-f426d349c316"
      },
      "execution_count": 28,
      "outputs": [
        {
          "output_type": "stream",
          "name": "stdout",
          "text": [
            "(1280, 128)\n"
          ]
        }
      ]
    },
    {
      "cell_type": "markdown",
      "source": [
        "------------------------------------\n",
        "***KNN***"
      ],
      "metadata": {
        "id": "3-Xl7ZCrQopZ"
      }
    },
    {
      "cell_type": "code",
      "source": [
        "X = data_x\n",
        "from sklearn import preprocessing\n",
        "\n",
        "poly = preprocessing.PolynomialFeatures(degree=2)\n",
        "X = poly.fit_transform(X)\n",
        "\n",
        "min_max_scaler = preprocessing.MinMaxScaler()\n",
        "X=min_max_scaler.fit_transform(X)\n",
        "# X=preprocessing.scale(X)\n",
        "X = preprocessing.normalize(X, norm='l1')\n",
        "print(X.shape)\n",
        "\n",
        "# from sklearn.decomposition import PCA\n",
        "# pca = PCA(n_components=1000)\n",
        "# X=pca.fit_transform(X)\n",
        "# print(X.shape)\n",
        "\n",
        "from sklearn.model_selection import train_test_split\n",
        "X_train, X_test, y_train, y_test = train_test_split(X, label_y)\n",
        "\n",
        "from sklearn.neighbors import KNeighborsClassifier\n",
        "knn = KNeighborsClassifier(n_neighbors=7)\n",
        "knn.fit(X_train, y_train,)\n",
        "train_score=knn.score(X_train,y_train)\n",
        "test_score=knn.score(X_test,y_test)\n",
        "print(\"train_score：\", train_score)\n",
        "print(\"test_score：\", test_score)\n",
        "trainscores.append(train_score)\n",
        "testscores.append(test_score)"
      ],
      "metadata": {
        "colab": {
          "base_uri": "https://localhost:8080/"
        },
        "id": "Lxl1HOPMQbPr",
        "outputId": "f4ecea6f-296a-4181-a7da-f9914d724347"
      },
      "execution_count": 29,
      "outputs": [
        {
          "output_type": "stream",
          "name": "stdout",
          "text": [
            "(1280, 8385)\n",
            "train_score： 0.7020833333333333\n",
            "test_score： 0.584375\n"
          ]
        }
      ]
    },
    {
      "cell_type": "markdown",
      "source": [
        "------------------------------\n",
        "***SMV***"
      ],
      "metadata": {
        "id": "9kxtmhNoRI3g"
      }
    },
    {
      "cell_type": "code",
      "source": [
        "\n",
        "poly = preprocessing.PolynomialFeatures(degree=2)\n",
        "X = poly.fit_transform(X)\n",
        "\n",
        "# min_max_scaler = preprocessing.MinMaxScaler()\n",
        "# X=min_max_scaler.fit_transform(X)\n",
        "X=preprocessing.scale(X)\n",
        "# X = preprocessing.normalize(X, norm='l2')\n",
        "print(X.shape)\n",
        "\n",
        "# from sklearn.decomposition import PCA\n",
        "# pca = PCA(n_components=20)\n",
        "# X=pca.fit_transform(X)\n",
        "# print(X.shape)\n",
        "from sklearn.model_selection import train_test_split\n",
        "X_train, X_test, y_train, y_test = train_test_split(data_x, label_y)"
      ],
      "metadata": {
        "colab": {
          "base_uri": "https://localhost:8080/"
        },
        "id": "EJ-QSzi1Qu9i",
        "outputId": "ad099cbc-13c7-47e1-e56b-5d4eaaf20abb"
      },
      "execution_count": 30,
      "outputs": [
        {
          "output_type": "stream",
          "name": "stdout",
          "text": [
            "(1280, 8385)\n"
          ]
        }
      ]
    },
    {
      "cell_type": "code",
      "source": [
        "from sklearn.svm import SVC\n",
        "svc = SVC(kernel='rbf',C = 0.1)\n",
        "svc.fit(X_train, y_train)\n",
        "train_score=svc.score(X_train,y_train)\n",
        "test_score=svc.score(X_test,y_test)\n",
        "print(\"train_score：\", train_score)\n",
        "print(\"test_score：\", test_score)\n",
        "trainscores.append(train_score)\n",
        "testscores.append(test_score)\n"
      ],
      "metadata": {
        "colab": {
          "base_uri": "https://localhost:8080/"
        },
        "id": "LgpPGjRORVxZ",
        "outputId": "b7eea6da-f560-4966-f4b0-3282595f0ee5"
      },
      "execution_count": 31,
      "outputs": [
        {
          "output_type": "stream",
          "name": "stdout",
          "text": [
            "train_score： 0.584375\n",
            "test_score： 0.55\n"
          ]
        }
      ]
    },
    {
      "cell_type": "code",
      "source": [],
      "metadata": {
        "id": "HflSmgM-RWab"
      },
      "execution_count": null,
      "outputs": []
    },
    {
      "cell_type": "markdown",
      "source": [
        "---------------------------------------\n",
        "***Decision Tree***"
      ],
      "metadata": {
        "id": "4GswyK0_Rfq3"
      }
    },
    {
      "cell_type": "code",
      "source": [
        "min_max_scaler = preprocessing.MinMaxScaler()\n",
        "X=min_max_scaler.fit_transform(X)\n",
        "# X=preprocessing.scale(X)\n",
        "# X = preprocessing.normalize(X, norm='l1')\n",
        "print(X.shape)\n",
        "\n",
        "# Dimensionality reduction\n",
        "from sklearn.decomposition import PCA\n",
        "pca = PCA(n_components=100)\n",
        "X=pca.fit_transform(X)\n",
        "print(X.shape)\n",
        "from sklearn.model_selection import train_test_split\n",
        "X_train, X_test, y_train, y_test = train_test_split(data_x, label_y)\n",
        "from sklearn import tree\n",
        "dtree = tree.DecisionTreeClassifier(max_depth=20,min_samples_split=4)\n",
        "dtree = dtree.fit(X_train, y_train)\n",
        "train_score=dtree.score(X_train,y_train)\n",
        "test_score=dtree.score(X_test,y_test)\n",
        "print(\"train_score：\", train_score)\n",
        "print(\"test_score：\", test_score)\n",
        "trainscores.append(train_score)\n",
        "testscores.append(test_score)\n"
      ],
      "metadata": {
        "colab": {
          "base_uri": "https://localhost:8080/"
        },
        "id": "FBfzELdZRj5s",
        "outputId": "169f1687-b2e1-49fc-8fc8-8aff6e6beea0"
      },
      "execution_count": 32,
      "outputs": [
        {
          "output_type": "stream",
          "name": "stdout",
          "text": [
            "(1280, 8385)\n",
            "(1280, 100)\n",
            "train_score： 0.9875\n",
            "test_score： 0.575\n"
          ]
        }
      ]
    },
    {
      "cell_type": "code",
      "source": [],
      "metadata": {
        "id": "VnoPomAlRoVq"
      },
      "execution_count": null,
      "outputs": []
    },
    {
      "cell_type": "markdown",
      "source": [
        "--------------------------------\n",
        "***Random Forest***"
      ],
      "metadata": {
        "id": "3kDlGRpJRvdA"
      }
    },
    {
      "cell_type": "code",
      "source": [
        "min_max_scaler = preprocessing.MinMaxScaler()\n",
        "X=min_max_scaler.fit_transform(X)\n",
        "# X=preprocessing.scale(X)\n",
        "# X = preprocessing.normalize(X, norm='l1')\n",
        "print(X.shape)\n",
        "\n",
        "# from sklearn.decomposition import PCA\n",
        "# pca = PCA(n_components=100)\n",
        "# X=pca.fit_transform(X)\n",
        "# print(X.shape)\n",
        "from sklearn.model_selection import train_test_split\n",
        "X_train, X_test, y_train, y_test = train_test_split(data_x, label_y)\n",
        "\n",
        "\n",
        "from sklearn.ensemble import RandomForestClassifier\n",
        "rf=RandomForestClassifier(n_estimators=50,max_depth=20,min_samples_split=5)\n",
        "rf=rf.fit(X_train, y_train)\n",
        "train_score=rf.score(X_train,y_train)\n",
        "test_score=rf.score(X_test,\n",
        "\n",
        "y_test)\n",
        "print(\"train_score：\", train_score)\n",
        "print(\"test_score：\", test_score)\n",
        "trainscores.append(train_score)\n",
        "testscores.append(test_score)\n",
        "\n"
      ],
      "metadata": {
        "colab": {
          "base_uri": "https://localhost:8080/"
        },
        "id": "SQhDNuvARzL5",
        "outputId": "6adcee76-2432-44de-d25c-398ff53cbe26"
      },
      "execution_count": 33,
      "outputs": [
        {
          "output_type": "stream",
          "name": "stdout",
          "text": [
            "(1280, 100)\n",
            "train_score： 0.9979166666666667\n",
            "test_score： 0.621875\n"
          ]
        }
      ]
    },
    {
      "cell_type": "markdown",
      "source": [
        "---------------------------\n",
        "***Model comparison***"
      ],
      "metadata": {
        "id": "_ULVUWxrSRWU"
      }
    },
    {
      "cell_type": "code",
      "source": [
        "model_name = [\"KNN\",\"SVM\",\"Dtree\",\"Random Forest\"]\n",
        "import matplotlib.pyplot as plt\n",
        "plt.title('Model Score', fontsize=16)\n",
        "plt.xlabel('model', fontsize=14)\n",
        "plt.ylabel('score', fontsize=14)\n",
        "plt.grid(linestyle=':', axis='y')\n",
        "x = np.arange(4)\n",
        "a = plt.bar(x - 0.3, trainscores, 0.3, color='dodgerblue', label='train', align='center')\n",
        "b = plt.bar(x, testscores, 0.3, color='orangered', label='test', align='center')\n",
        "# Set up labels\n",
        "for i in a + b:\n",
        "    h = i.get_height()\n",
        "    plt.text(i.get_x() + i.get_width() / 2, h, '%.3f' % h, ha='center', va='bottom')\n",
        "plt.xticks(x,model_name,rotation=75)\n",
        "plt.legend(loc='lower right')\n",
        "plt.show()"
      ],
      "metadata": {
        "colab": {
          "base_uri": "https://localhost:8080/",
          "height": 569
        },
        "id": "tMsBWAoeR7AE",
        "outputId": "2cb33fda-2d27-4e5e-cf65-92c5a17a1f34"
      },
      "execution_count": 34,
      "outputs": [
        {
          "output_type": "display_data",
          "data": {
            "text/plain": [
              "<Figure size 640x480 with 1 Axes>"
            ],
            "image/png": "[encoded data removed]"
          },
          "metadata": {}
        }
      ]
    },
    {
      "cell_type": "code",
      "source": [],
      "metadata": {
        "id": "O5C5vHuASPHo"
      },
      "execution_count": null,
      "outputs": []
    }
  ]
}