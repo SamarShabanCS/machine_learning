{
 "cells": [
  {
   "cell_type": "code",
   "execution_count": 1,
   "metadata": {},
   "outputs": [
    {
     "name": "stderr",
     "output_type": "stream",
     "text": [
      "Using TensorFlow backend.\n"
     ]
    }
   ],
   "source": [
    "from keras.layers import Input, Dense\n",
    "from keras.models import Model\n",
    "\n",
    "# this is the size of our encoded representations\n",
    "encoding_dim = 32  # 32 floats -> compression of factor 24.5, assuming the input is 784 floats\n",
    "\n",
    "# this is our input placeholder\n",
    "input_img = Input(shape=(784,))\n",
    "# \"encoded\" is the encoded representation of the input\n",
    "encoded = Dense(encoding_dim, activation='relu')(input_img)\n",
    "# \"decoded\" is the lossy reconstruction of the input\n",
    "decoded = Dense(784, activation='sigmoid')(encoded)\n",
    "\n",
    "# this model maps an input to its reconstruction\n",
    "autoencoder = Model(input_img, decoded)"
   ]
  },
  {
   "cell_type": "code",
   "execution_count": 2,
   "metadata": {},
   "outputs": [],
   "source": [
    "# this model maps an input to its encoded representation\n",
    "encoder = Model(input_img, encoded)"
   ]
  },
  {
   "cell_type": "code",
   "execution_count": 3,
   "metadata": {},
   "outputs": [],
   "source": [
    "# create a placeholder for an encoded (32-dimensional) input\n",
    "encoded_input = Input(shape=(encoding_dim,))\n",
    "# retrieve the last layer of the autoencoder model\n",
    "decoder_layer = autoencoder.layers[-1]\n",
    "# create the decoder model\n",
    "decoder = Model(encoded_input, decoder_layer(encoded_input))"
   ]
  },
  {
   "cell_type": "code",
   "execution_count": 4,
   "metadata": {},
   "outputs": [],
   "source": [
    "autoencoder.compile(optimizer='adadelta', loss='binary_crossentropy')"
   ]
  },
  {
   "cell_type": "code",
   "execution_count": 5,
   "metadata": {},
   "outputs": [
    {
     "name": "stdout",
     "output_type": "stream",
     "text": [
      "Downloading data from https://s3.amazonaws.com/img-datasets/mnist.npz\n",
      "11493376/11490434 [==============================] - 10s 1us/step\n"
     ]
    }
   ],
   "source": [
    "from keras.datasets import mnist\n",
    "import numpy as np\n",
    "(x_train, _), (x_test, _) = mnist.load_data()"
   ]
  },
  {
   "cell_type": "code",
   "execution_count": 6,
   "metadata": {},
   "outputs": [
    {
     "name": "stdout",
     "output_type": "stream",
     "text": [
      "(60000, 784)\n",
      "(10000, 784)\n"
     ]
    }
   ],
   "source": [
    "x_train = x_train.astype('float32') / 255.\n",
    "x_test = x_test.astype('float32') / 255.\n",
    "x_train = x_train.reshape((len(x_train), np.prod(x_train.shape[1:])))\n",
    "x_test = x_test.reshape((len(x_test), np.prod(x_test.shape[1:])))\n",
    "print (x_train.shape)\n",
    "print (x_test.shape)"
   ]
  },
  {
   "cell_type": "code",
   "execution_count": 7,
   "metadata": {},
   "outputs": [
    {
     "name": "stdout",
     "output_type": "stream",
     "text": [
      "Train on 60000 samples, validate on 10000 samples\n",
      "Epoch 1/50\n",
      "60000/60000 [==============================] - 12s 207us/step - loss: 0.3647 - val_loss: 0.2714\n",
      "Epoch 2/50\n",
      "60000/60000 [==============================] - 11s 188us/step - loss: 0.2648 - val_loss: 0.2547\n",
      "Epoch 3/50\n",
      "60000/60000 [==============================] - 10s 168us/step - loss: 0.2452 - val_loss: 0.2335\n",
      "Epoch 4/50\n",
      "60000/60000 [==============================] - 12s 200us/step - loss: 0.2255 - val_loss: 0.2153\n",
      "Epoch 5/50\n",
      "60000/60000 [==============================] - 12s 193us/step - loss: 0.2097 - val_loss: 0.2019\n",
      "Epoch 6/50\n",
      "60000/60000 [==============================] - 11s 184us/step - loss: 0.1980 - val_loss: 0.1917\n",
      "Epoch 7/50\n",
      "60000/60000 [==============================] - 11s 180us/step - loss: 0.1891 - val_loss: 0.1838\n",
      "Epoch 8/50\n",
      "60000/60000 [==============================] - 10s 174us/step - loss: 0.1819 - val_loss: 0.1773\n",
      "Epoch 9/50\n",
      "60000/60000 [==============================] - 11s 184us/step - loss: 0.1756 - val_loss: 0.1714\n",
      "Epoch 10/50\n",
      "60000/60000 [==============================] - 10s 168us/step - loss: 0.1701 - val_loss: 0.1662\n",
      "Epoch 11/50\n",
      "60000/60000 [==============================] - 10s 173us/step - loss: 0.1653 - val_loss: 0.1617\n",
      "Epoch 12/50\n",
      "60000/60000 [==============================] - 10s 173us/step - loss: 0.1608 - val_loss: 0.1574\n",
      "Epoch 13/50\n",
      "60000/60000 [==============================] - 10s 175us/step - loss: 0.1568 - val_loss: 0.1536\n",
      "Epoch 14/50\n",
      "60000/60000 [==============================] - 11s 176us/step - loss: 0.1532 - val_loss: 0.1502\n",
      "Epoch 15/50\n",
      "60000/60000 [==============================] - 10s 169us/step - loss: 0.1498 - val_loss: 0.1470\n",
      "Epoch 16/50\n",
      "60000/60000 [==============================] - 11s 189us/step - loss: 0.1467 - val_loss: 0.1440\n",
      "Epoch 17/50\n",
      "60000/60000 [==============================] - 11s 177us/step - loss: 0.1439 - val_loss: 0.1412\n",
      "Epoch 18/50\n",
      "60000/60000 [==============================] - 10s 173us/step - loss: 0.1413 - val_loss: 0.1389\n",
      "Epoch 19/50\n",
      "60000/60000 [==============================] - 15s 253us/step - loss: 0.1389 - val_loss: 0.1365\n",
      "Epoch 20/50\n",
      "60000/60000 [==============================] - 11s 191us/step - loss: 0.1367 - val_loss: 0.1343\n",
      "Epoch 21/50\n",
      "60000/60000 [==============================] - 11s 187us/step - loss: 0.1347 - val_loss: 0.1323\n",
      "Epoch 22/50\n",
      "60000/60000 [==============================] - 10s 170us/step - loss: 0.1327 - val_loss: 0.1303\n",
      "Epoch 23/50\n",
      "60000/60000 [==============================] - 11s 176us/step - loss: 0.1309 - val_loss: 0.1285\n",
      "Epoch 24/50\n",
      "60000/60000 [==============================] - 11s 181us/step - loss: 0.1291 - val_loss: 0.1267\n",
      "Epoch 25/50\n",
      "60000/60000 [==============================] - 11s 190us/step - loss: 0.1274 - val_loss: 0.1251\n",
      "Epoch 26/50\n",
      "60000/60000 [==============================] - 10s 171us/step - loss: 0.1258 - val_loss: 0.1235\n",
      "Epoch 27/50\n",
      "60000/60000 [==============================] - 10s 170us/step - loss: 0.1242 - val_loss: 0.1219\n",
      "Epoch 28/50\n",
      "60000/60000 [==============================] - 10s 161us/step - loss: 0.1227 - val_loss: 0.1204\n",
      "Epoch 29/50\n",
      "60000/60000 [==============================] - 10s 162us/step - loss: 0.1213 - val_loss: 0.1190\n",
      "Epoch 30/50\n",
      "60000/60000 [==============================] - 11s 183us/step - loss: 0.1199 - val_loss: 0.1177\n",
      "Epoch 31/50\n",
      "60000/60000 [==============================] - 10s 173us/step - loss: 0.1186 - val_loss: 0.1164\n",
      "Epoch 32/50\n",
      "60000/60000 [==============================] - 10s 173us/step - loss: 0.1174 - val_loss: 0.1152\n",
      "Epoch 33/50\n",
      "60000/60000 [==============================] - 10s 161us/step - loss: 0.1162 - val_loss: 0.1141\n",
      "Epoch 34/50\n",
      "60000/60000 [==============================] - 10s 165us/step - loss: 0.1151 - val_loss: 0.1129\n",
      "Epoch 35/50\n",
      "60000/60000 [==============================] - 10s 166us/step - loss: 0.1141 - val_loss: 0.1120\n",
      "Epoch 36/50\n",
      "60000/60000 [==============================] - 10s 165us/step - loss: 0.1131 - val_loss: 0.1110\n",
      "Epoch 37/50\n",
      "60000/60000 [==============================] - 11s 188us/step - loss: 0.1121 - val_loss: 0.1101\n",
      "Epoch 38/50\n",
      "60000/60000 [==============================] - 12s 203us/step - loss: 0.1113 - val_loss: 0.1092\n",
      "Epoch 39/50\n",
      "60000/60000 [==============================] - 11s 189us/step - loss: 0.1105 - val_loss: 0.1084\n",
      "Epoch 40/50\n",
      "60000/60000 [==============================] - 11s 176us/step - loss: 0.1097 - val_loss: 0.1077\n",
      "Epoch 41/50\n",
      "60000/60000 [==============================] - 10s 166us/step - loss: 0.1090 - val_loss: 0.1070\n",
      "Epoch 42/50\n",
      "60000/60000 [==============================] - 10s 161us/step - loss: 0.1083 - val_loss: 0.1064\n",
      "Epoch 43/50\n",
      "60000/60000 [==============================] - 10s 164us/step - loss: 0.1077 - val_loss: 0.1057\n",
      "Epoch 44/50\n",
      "60000/60000 [==============================] - 10s 161us/step - loss: 0.1071 - val_loss: 0.1051\n",
      "Epoch 45/50\n",
      "60000/60000 [==============================] - 10s 169us/step - loss: 0.1065 - val_loss: 0.1046\n",
      "Epoch 46/50\n",
      "60000/60000 [==============================] - 10s 165us/step - loss: 0.1060 - val_loss: 0.1041\n",
      "Epoch 47/50\n",
      "60000/60000 [==============================] - 10s 162us/step - loss: 0.1055 - val_loss: 0.1036\n",
      "Epoch 48/50\n",
      "60000/60000 [==============================] - 10s 163us/step - loss: 0.1050 - val_loss: 0.1031\n",
      "Epoch 49/50\n",
      "60000/60000 [==============================] - 10s 172us/step - loss: 0.1045 - val_loss: 0.1027\n",
      "Epoch 50/50\n",
      "60000/60000 [==============================] - 10s 169us/step - loss: 0.1041 - val_loss: 0.1022\n"
     ]
    },
    {
     "data": {
      "text/plain": [
       "<keras.callbacks.History at 0x7f884561bd30>"
      ]
     },
     "execution_count": 7,
     "metadata": {},
     "output_type": "execute_result"
    }
   ],
   "source": [
    "autoencoder.fit(x_train, x_train,\n",
    "                epochs=50,\n",
    "                batch_size=256,\n",
    "                shuffle=True,\n",
    "                validation_data=(x_test, x_test))"
   ]
  },
  {
   "cell_type": "code",
   "execution_count": 10,
   "metadata": {
    "collapsed": true
   },
   "outputs": [],
   "source": [
    "# encode and decode some digits\n",
    "# note that we take them from the *test* set\n",
    "encoded_imgs = encoder.predict(x_test)\n",
    "decoded_imgs = decoder.predict(encoded_imgs)"
   ]
  },
  {
   "cell_type": "code",
   "execution_count": 12,
   "metadata": {},
   "outputs": [
    {
     "data": {
      "image/png": "[encoded data removed]",
      "text/plain": [
       "<matplotlib.figure.Figure at 0x65baa337f0>"
      ]
     },
     "metadata": {},
     "output_type": "display_data"
    }
   ],
   "source": [
    "# use Matplotlib (don't ask)\n",
    "import matplotlib.pyplot as plt\n",
    "\n",
    "n = 10  # how many digits we will display\n",
    "plt.figure(figsize=(20, 4))\n",
    "for i in range(n):\n",
    "    # display original\n",
    "    ax = plt.subplot(2, n, i + 1)\n",
    "    plt.imshow(x_test[i].reshape(28, 28))\n",
    "    plt.gray()\n",
    "    ax.get_xaxis().set_visible(False)\n",
    "    ax.get_yaxis().set_visible(False)\n",
    "\n",
    "    # display reconstruction\n",
    "    ax = plt.subplot(2, n, i + 1 + n)\n",
    "    plt.imshow(decoded_imgs[i].reshape(28, 28))\n",
    "    plt.gray()\n",
    "    ax.get_xaxis().set_visible(False)\n",
    "    ax.get_yaxis().set_visible(False)\n",
    "plt.show()"
   ]
  },
  {
   "cell_type": "code",
   "execution_count": null,
   "metadata": {
    "collapsed": true
   },
   "outputs": [],
   "source": []
  }
 ],
 "metadata": {
  "kernelspec": {
   "display_name": "Python 3",
   "language": "python",
   "name": "python3"
  },
  "language_info": {
   "codemirror_mode": {
    "name": "ipython",
    "version": 3
   },
   "file_extension": ".py",
   "mimetype": "text/x-python",
   "name": "python",
   "nbconvert_exporter": "python",
   "pygments_lexer": "ipython3",
   "version": "3.6.4"
  }
 },
 "nbformat": 4,
 "nbformat_minor": 2
}
